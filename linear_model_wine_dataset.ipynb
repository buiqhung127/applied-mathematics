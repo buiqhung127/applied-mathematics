{
  "nbformat": 4,
  "nbformat_minor": 0,
  "metadata": {
    "colab": {
      "provenance": [],
      "collapsed_sections": []
    },
    "kernelspec": {
      "name": "python3",
      "display_name": "Python 3"
    },
    "language_info": {
      "name": "python"
    },
    "gpuClass": "standard"
  },
  "cells": [
    {
      "cell_type": "code",
      "execution_count": null,
      "metadata": {
        "id": "Pt2vkwTwdX-4"
      },
      "outputs": [],
      "source": [
        "import numpy as np\n",
        "import pandas as pd"
      ]
    },
    {
      "cell_type": "code",
      "source": [
        "dir = '/content/wine.csv'\n",
        "df = pd.read_csv(dir, sep=';') # change directory here to your directory \n",
        "df"
      ],
      "metadata": {
        "id": "dgrj7_74BI_e",
        "colab": {
          "base_uri": "https://localhost:8080/",
          "height": 424
        },
        "outputId": "5b254602-24e3-458a-d8e0-99cb7d4deb93"
      },
      "execution_count": null,
      "outputs": [
        {
          "output_type": "execute_result",
          "data": {
            "text/plain": [
              "      fixed acidity  volatile acidity  citric acid  residual sugar  chlorides  \\\n",
              "0               7.4             0.700         0.00             1.9      0.076   \n",
              "1               7.8             0.880         0.00             2.6      0.098   \n",
              "2               7.8             0.760         0.04             2.3      0.092   \n",
              "3              11.2             0.280         0.56             1.9      0.075   \n",
              "4               7.4             0.700         0.00             1.9      0.076   \n",
              "...             ...               ...          ...             ...        ...   \n",
              "1194            7.0             0.745         0.12             1.8      0.114   \n",
              "1195            6.2             0.430         0.22             1.8      0.078   \n",
              "1196            7.9             0.580         0.23             2.3      0.076   \n",
              "1197            7.7             0.570         0.21             1.5      0.069   \n",
              "1198            7.7             0.260         0.26             2.0      0.052   \n",
              "\n",
              "      free sulfur dioxide  total sulfur dioxide  density    pH  sulphates  \\\n",
              "0                    11.0                    34  0.99780  3.51       0.56   \n",
              "1                    25.0                    67  0.99680  3.20       0.68   \n",
              "2                    15.0                    54  0.99700  3.26       0.65   \n",
              "3                    17.0                    60  0.99800  3.16       0.58   \n",
              "4                    11.0                    34  0.99780  3.51       0.56   \n",
              "...                   ...                   ...      ...   ...        ...   \n",
              "1194                 15.0                    64  0.99588  3.22       0.59   \n",
              "1195                 21.0                    56  0.99633  3.52       0.60   \n",
              "1196                 23.0                    94  0.99686  3.21       0.58   \n",
              "1197                  4.0                     9  0.99458  3.16       0.54   \n",
              "1198                 19.0                    77  0.99510  3.15       0.79   \n",
              "\n",
              "      alcohol  quality  \n",
              "0         9.4        5  \n",
              "1         9.8        5  \n",
              "2         9.8        5  \n",
              "3         9.8        6  \n",
              "4         9.4        5  \n",
              "...       ...      ...  \n",
              "1194      9.5        6  \n",
              "1195      9.5        6  \n",
              "1196      9.5        6  \n",
              "1197      9.8        6  \n",
              "1198     10.9        6  \n",
              "\n",
              "[1199 rows x 12 columns]"
            ],
            "text/html": [
              "\n",
              "  <div id=\"df-a989edbc-468e-4e46-8891-c1bf2b1ccbc2\">\n",
              "    <div class=\"colab-df-container\">\n",
              "      <div>\n",
              "<style scoped>\n",
              "    .dataframe tbody tr th:only-of-type {\n",
              "        vertical-align: middle;\n",
              "    }\n",
              "\n",
              "    .dataframe tbody tr th {\n",
              "        vertical-align: top;\n",
              "    }\n",
              "\n",
              "    .dataframe thead th {\n",
              "        text-align: right;\n",
              "    }\n",
              "</style>\n",
              "<table border=\"1\" class=\"dataframe\">\n",
              "  <thead>\n",
              "    <tr style=\"text-align: right;\">\n",
              "      <th></th>\n",
              "      <th>fixed acidity</th>\n",
              "      <th>volatile acidity</th>\n",
              "      <th>citric acid</th>\n",
              "      <th>residual sugar</th>\n",
              "      <th>chlorides</th>\n",
              "      <th>free sulfur dioxide</th>\n",
              "      <th>total sulfur dioxide</th>\n",
              "      <th>density</th>\n",
              "      <th>pH</th>\n",
              "      <th>sulphates</th>\n",
              "      <th>alcohol</th>\n",
              "      <th>quality</th>\n",
              "    </tr>\n",
              "  </thead>\n",
              "  <tbody>\n",
              "    <tr>\n",
              "      <th>0</th>\n",
              "      <td>7.4</td>\n",
              "      <td>0.700</td>\n",
              "      <td>0.00</td>\n",
              "      <td>1.9</td>\n",
              "      <td>0.076</td>\n",
              "      <td>11.0</td>\n",
              "      <td>34</td>\n",
              "      <td>0.99780</td>\n",
              "      <td>3.51</td>\n",
              "      <td>0.56</td>\n",
              "      <td>9.4</td>\n",
              "      <td>5</td>\n",
              "    </tr>\n",
              "    <tr>\n",
              "      <th>1</th>\n",
              "      <td>7.8</td>\n",
              "      <td>0.880</td>\n",
              "      <td>0.00</td>\n",
              "      <td>2.6</td>\n",
              "      <td>0.098</td>\n",
              "      <td>25.0</td>\n",
              "      <td>67</td>\n",
              "      <td>0.99680</td>\n",
              "      <td>3.20</td>\n",
              "      <td>0.68</td>\n",
              "      <td>9.8</td>\n",
              "      <td>5</td>\n",
              "    </tr>\n",
              "    <tr>\n",
              "      <th>2</th>\n",
              "      <td>7.8</td>\n",
              "      <td>0.760</td>\n",
              "      <td>0.04</td>\n",
              "      <td>2.3</td>\n",
              "      <td>0.092</td>\n",
              "      <td>15.0</td>\n",
              "      <td>54</td>\n",
              "      <td>0.99700</td>\n",
              "      <td>3.26</td>\n",
              "      <td>0.65</td>\n",
              "      <td>9.8</td>\n",
              "      <td>5</td>\n",
              "    </tr>\n",
              "    <tr>\n",
              "      <th>3</th>\n",
              "      <td>11.2</td>\n",
              "      <td>0.280</td>\n",
              "      <td>0.56</td>\n",
              "      <td>1.9</td>\n",
              "      <td>0.075</td>\n",
              "      <td>17.0</td>\n",
              "      <td>60</td>\n",
              "      <td>0.99800</td>\n",
              "      <td>3.16</td>\n",
              "      <td>0.58</td>\n",
              "      <td>9.8</td>\n",
              "      <td>6</td>\n",
              "    </tr>\n",
              "    <tr>\n",
              "      <th>4</th>\n",
              "      <td>7.4</td>\n",
              "      <td>0.700</td>\n",
              "      <td>0.00</td>\n",
              "      <td>1.9</td>\n",
              "      <td>0.076</td>\n",
              "      <td>11.0</td>\n",
              "      <td>34</td>\n",
              "      <td>0.99780</td>\n",
              "      <td>3.51</td>\n",
              "      <td>0.56</td>\n",
              "      <td>9.4</td>\n",
              "      <td>5</td>\n",
              "    </tr>\n",
              "    <tr>\n",
              "      <th>...</th>\n",
              "      <td>...</td>\n",
              "      <td>...</td>\n",
              "      <td>...</td>\n",
              "      <td>...</td>\n",
              "      <td>...</td>\n",
              "      <td>...</td>\n",
              "      <td>...</td>\n",
              "      <td>...</td>\n",
              "      <td>...</td>\n",
              "      <td>...</td>\n",
              "      <td>...</td>\n",
              "      <td>...</td>\n",
              "    </tr>\n",
              "    <tr>\n",
              "      <th>1194</th>\n",
              "      <td>7.0</td>\n",
              "      <td>0.745</td>\n",
              "      <td>0.12</td>\n",
              "      <td>1.8</td>\n",
              "      <td>0.114</td>\n",
              "      <td>15.0</td>\n",
              "      <td>64</td>\n",
              "      <td>0.99588</td>\n",
              "      <td>3.22</td>\n",
              "      <td>0.59</td>\n",
              "      <td>9.5</td>\n",
              "      <td>6</td>\n",
              "    </tr>\n",
              "    <tr>\n",
              "      <th>1195</th>\n",
              "      <td>6.2</td>\n",
              "      <td>0.430</td>\n",
              "      <td>0.22</td>\n",
              "      <td>1.8</td>\n",
              "      <td>0.078</td>\n",
              "      <td>21.0</td>\n",
              "      <td>56</td>\n",
              "      <td>0.99633</td>\n",
              "      <td>3.52</td>\n",
              "      <td>0.60</td>\n",
              "      <td>9.5</td>\n",
              "      <td>6</td>\n",
              "    </tr>\n",
              "    <tr>\n",
              "      <th>1196</th>\n",
              "      <td>7.9</td>\n",
              "      <td>0.580</td>\n",
              "      <td>0.23</td>\n",
              "      <td>2.3</td>\n",
              "      <td>0.076</td>\n",
              "      <td>23.0</td>\n",
              "      <td>94</td>\n",
              "      <td>0.99686</td>\n",
              "      <td>3.21</td>\n",
              "      <td>0.58</td>\n",
              "      <td>9.5</td>\n",
              "      <td>6</td>\n",
              "    </tr>\n",
              "    <tr>\n",
              "      <th>1197</th>\n",
              "      <td>7.7</td>\n",
              "      <td>0.570</td>\n",
              "      <td>0.21</td>\n",
              "      <td>1.5</td>\n",
              "      <td>0.069</td>\n",
              "      <td>4.0</td>\n",
              "      <td>9</td>\n",
              "      <td>0.99458</td>\n",
              "      <td>3.16</td>\n",
              "      <td>0.54</td>\n",
              "      <td>9.8</td>\n",
              "      <td>6</td>\n",
              "    </tr>\n",
              "    <tr>\n",
              "      <th>1198</th>\n",
              "      <td>7.7</td>\n",
              "      <td>0.260</td>\n",
              "      <td>0.26</td>\n",
              "      <td>2.0</td>\n",
              "      <td>0.052</td>\n",
              "      <td>19.0</td>\n",
              "      <td>77</td>\n",
              "      <td>0.99510</td>\n",
              "      <td>3.15</td>\n",
              "      <td>0.79</td>\n",
              "      <td>10.9</td>\n",
              "      <td>6</td>\n",
              "    </tr>\n",
              "  </tbody>\n",
              "</table>\n",
              "<p>1199 rows × 12 columns</p>\n",
              "</div>\n",
              "      <button class=\"colab-df-convert\" onclick=\"convertToInteractive('df-a989edbc-468e-4e46-8891-c1bf2b1ccbc2')\"\n",
              "              title=\"Convert this dataframe to an interactive table.\"\n",
              "              style=\"display:none;\">\n",
              "        \n",
              "  <svg xmlns=\"http://www.w3.org/2000/svg\" height=\"24px\"viewBox=\"0 0 24 24\"\n",
              "       width=\"24px\">\n",
              "    <path d=\"M0 0h24v24H0V0z\" fill=\"none\"/>\n",
              "    <path d=\"M18.56 5.44l.94 2.06.94-2.06 2.06-.94-2.06-.94-.94-2.06-.94 2.06-2.06.94zm-11 1L8.5 8.5l.94-2.06 2.06-.94-2.06-.94L8.5 2.5l-.94 2.06-2.06.94zm10 10l.94 2.06.94-2.06 2.06-.94-2.06-.94-.94-2.06-.94 2.06-2.06.94z\"/><path d=\"M17.41 7.96l-1.37-1.37c-.4-.4-.92-.59-1.43-.59-.52 0-1.04.2-1.43.59L10.3 9.45l-7.72 7.72c-.78.78-.78 2.05 0 2.83L4 21.41c.39.39.9.59 1.41.59.51 0 1.02-.2 1.41-.59l7.78-7.78 2.81-2.81c.8-.78.8-2.07 0-2.86zM5.41 20L4 18.59l7.72-7.72 1.47 1.35L5.41 20z\"/>\n",
              "  </svg>\n",
              "      </button>\n",
              "      \n",
              "  <style>\n",
              "    .colab-df-container {\n",
              "      display:flex;\n",
              "      flex-wrap:wrap;\n",
              "      gap: 12px;\n",
              "    }\n",
              "\n",
              "    .colab-df-convert {\n",
              "      background-color: #E8F0FE;\n",
              "      border: none;\n",
              "      border-radius: 50%;\n",
              "      cursor: pointer;\n",
              "      display: none;\n",
              "      fill: #1967D2;\n",
              "      height: 32px;\n",
              "      padding: 0 0 0 0;\n",
              "      width: 32px;\n",
              "    }\n",
              "\n",
              "    .colab-df-convert:hover {\n",
              "      background-color: #E2EBFA;\n",
              "      box-shadow: 0px 1px 2px rgba(60, 64, 67, 0.3), 0px 1px 3px 1px rgba(60, 64, 67, 0.15);\n",
              "      fill: #174EA6;\n",
              "    }\n",
              "\n",
              "    [theme=dark] .colab-df-convert {\n",
              "      background-color: #3B4455;\n",
              "      fill: #D2E3FC;\n",
              "    }\n",
              "\n",
              "    [theme=dark] .colab-df-convert:hover {\n",
              "      background-color: #434B5C;\n",
              "      box-shadow: 0px 1px 3px 1px rgba(0, 0, 0, 0.15);\n",
              "      filter: drop-shadow(0px 1px 2px rgba(0, 0, 0, 0.3));\n",
              "      fill: #FFFFFF;\n",
              "    }\n",
              "  </style>\n",
              "\n",
              "      <script>\n",
              "        const buttonEl =\n",
              "          document.querySelector('#df-a989edbc-468e-4e46-8891-c1bf2b1ccbc2 button.colab-df-convert');\n",
              "        buttonEl.style.display =\n",
              "          google.colab.kernel.accessAllowed ? 'block' : 'none';\n",
              "\n",
              "        async function convertToInteractive(key) {\n",
              "          const element = document.querySelector('#df-a989edbc-468e-4e46-8891-c1bf2b1ccbc2');\n",
              "          const dataTable =\n",
              "            await google.colab.kernel.invokeFunction('convertToInteractive',\n",
              "                                                     [key], {});\n",
              "          if (!dataTable) return;\n",
              "\n",
              "          const docLinkHtml = 'Like what you see? Visit the ' +\n",
              "            '<a target=\"_blank\" href=https://colab.research.google.com/notebooks/data_table.ipynb>data table notebook</a>'\n",
              "            + ' to learn more about interactive tables.';\n",
              "          element.innerHTML = '';\n",
              "          dataTable['output_type'] = 'display_data';\n",
              "          await google.colab.output.renderOutput(dataTable, element);\n",
              "          const docLink = document.createElement('div');\n",
              "          docLink.innerHTML = docLinkHtml;\n",
              "          element.appendChild(docLink);\n",
              "        }\n",
              "      </script>\n",
              "    </div>\n",
              "  </div>\n",
              "  "
            ]
          },
          "metadata": {},
          "execution_count": 51
        }
      ]
    },
    {
      "cell_type": "code",
      "source": [
        "df.info()"
      ],
      "metadata": {
        "colab": {
          "base_uri": "https://localhost:8080/"
        },
        "id": "NYaBAQ-YBcAi",
        "outputId": "399fe037-69b7-4bc8-8c34-4deab917b0f2"
      },
      "execution_count": null,
      "outputs": [
        {
          "output_type": "stream",
          "name": "stdout",
          "text": [
            "<class 'pandas.core.frame.DataFrame'>\n",
            "RangeIndex: 1199 entries, 0 to 1198\n",
            "Data columns (total 12 columns):\n",
            " #   Column                Non-Null Count  Dtype  \n",
            "---  ------                --------------  -----  \n",
            " 0   fixed acidity         1199 non-null   float64\n",
            " 1   volatile acidity      1199 non-null   float64\n",
            " 2   citric acid           1199 non-null   float64\n",
            " 3   residual sugar        1199 non-null   float64\n",
            " 4   chlorides             1199 non-null   float64\n",
            " 5   free sulfur dioxide   1199 non-null   float64\n",
            " 6   total sulfur dioxide  1199 non-null   int64  \n",
            " 7   density               1199 non-null   float64\n",
            " 8   pH                    1199 non-null   float64\n",
            " 9   sulphates             1199 non-null   float64\n",
            " 10  alcohol               1199 non-null   float64\n",
            " 11  quality               1199 non-null   int64  \n",
            "dtypes: float64(10), int64(2)\n",
            "memory usage: 112.5 KB\n"
          ]
        }
      ]
    },
    {
      "cell_type": "code",
      "source": [
        "df.describe()"
      ],
      "metadata": {
        "colab": {
          "base_uri": "https://localhost:8080/",
          "height": 300
        },
        "id": "6k_bL8CwBhr7",
        "outputId": "d9ce3fd6-9591-4930-d212-fce164b4207d"
      },
      "execution_count": null,
      "outputs": [
        {
          "output_type": "execute_result",
          "data": {
            "text/plain": [
              "       fixed acidity  volatile acidity  citric acid  residual sugar  \\\n",
              "count    1199.000000       1199.000000  1199.000000     1199.000000   \n",
              "mean        8.625271          0.519133     0.293353        2.564470   \n",
              "std         1.781795          0.179208     0.196751        1.264441   \n",
              "min         4.600000          0.120000     0.000000        0.900000   \n",
              "25%         7.300000          0.390000     0.120000        1.900000   \n",
              "50%         8.300000          0.500000     0.290000        2.200000   \n",
              "75%         9.600000          0.630000     0.450000        2.700000   \n",
              "max        15.900000          1.330000     1.000000       15.500000   \n",
              "\n",
              "         chlorides  free sulfur dioxide  total sulfur dioxide      density  \\\n",
              "count  1199.000000          1199.000000           1199.000000  1199.000000   \n",
              "mean      0.089266            15.242702             46.884070     0.997059   \n",
              "std       0.048310            10.210406             33.949177     0.001878   \n",
              "min       0.012000             1.000000              6.000000     0.990070   \n",
              "25%       0.071000             7.000000             21.000000     0.996000   \n",
              "50%       0.080000            13.000000             38.000000     0.997020   \n",
              "75%       0.092000            21.000000             63.000000     0.998175   \n",
              "max       0.611000            68.000000            289.000000     1.003200   \n",
              "\n",
              "                pH    sulphates      alcohol      quality  \n",
              "count  1199.000000  1199.000000  1199.000000  1199.000000  \n",
              "mean      3.298582     0.665738    10.383069     5.664721  \n",
              "std       0.156161     0.175921     1.091891     0.809593  \n",
              "min       2.740000     0.330000     8.400000     3.000000  \n",
              "25%       3.195000     0.560000     9.500000     5.000000  \n",
              "50%       3.300000     0.620000    10.000000     6.000000  \n",
              "75%       3.390000     0.735000    11.000000     6.000000  \n",
              "max       3.900000     2.000000    14.900000     8.000000  "
            ],
            "text/html": [
              "\n",
              "  <div id=\"df-4b168b5b-558f-4e21-8f73-78e1daf1eeec\">\n",
              "    <div class=\"colab-df-container\">\n",
              "      <div>\n",
              "<style scoped>\n",
              "    .dataframe tbody tr th:only-of-type {\n",
              "        vertical-align: middle;\n",
              "    }\n",
              "\n",
              "    .dataframe tbody tr th {\n",
              "        vertical-align: top;\n",
              "    }\n",
              "\n",
              "    .dataframe thead th {\n",
              "        text-align: right;\n",
              "    }\n",
              "</style>\n",
              "<table border=\"1\" class=\"dataframe\">\n",
              "  <thead>\n",
              "    <tr style=\"text-align: right;\">\n",
              "      <th></th>\n",
              "      <th>fixed acidity</th>\n",
              "      <th>volatile acidity</th>\n",
              "      <th>citric acid</th>\n",
              "      <th>residual sugar</th>\n",
              "      <th>chlorides</th>\n",
              "      <th>free sulfur dioxide</th>\n",
              "      <th>total sulfur dioxide</th>\n",
              "      <th>density</th>\n",
              "      <th>pH</th>\n",
              "      <th>sulphates</th>\n",
              "      <th>alcohol</th>\n",
              "      <th>quality</th>\n",
              "    </tr>\n",
              "  </thead>\n",
              "  <tbody>\n",
              "    <tr>\n",
              "      <th>count</th>\n",
              "      <td>1199.000000</td>\n",
              "      <td>1199.000000</td>\n",
              "      <td>1199.000000</td>\n",
              "      <td>1199.000000</td>\n",
              "      <td>1199.000000</td>\n",
              "      <td>1199.000000</td>\n",
              "      <td>1199.000000</td>\n",
              "      <td>1199.000000</td>\n",
              "      <td>1199.000000</td>\n",
              "      <td>1199.000000</td>\n",
              "      <td>1199.000000</td>\n",
              "      <td>1199.000000</td>\n",
              "    </tr>\n",
              "    <tr>\n",
              "      <th>mean</th>\n",
              "      <td>8.625271</td>\n",
              "      <td>0.519133</td>\n",
              "      <td>0.293353</td>\n",
              "      <td>2.564470</td>\n",
              "      <td>0.089266</td>\n",
              "      <td>15.242702</td>\n",
              "      <td>46.884070</td>\n",
              "      <td>0.997059</td>\n",
              "      <td>3.298582</td>\n",
              "      <td>0.665738</td>\n",
              "      <td>10.383069</td>\n",
              "      <td>5.664721</td>\n",
              "    </tr>\n",
              "    <tr>\n",
              "      <th>std</th>\n",
              "      <td>1.781795</td>\n",
              "      <td>0.179208</td>\n",
              "      <td>0.196751</td>\n",
              "      <td>1.264441</td>\n",
              "      <td>0.048310</td>\n",
              "      <td>10.210406</td>\n",
              "      <td>33.949177</td>\n",
              "      <td>0.001878</td>\n",
              "      <td>0.156161</td>\n",
              "      <td>0.175921</td>\n",
              "      <td>1.091891</td>\n",
              "      <td>0.809593</td>\n",
              "    </tr>\n",
              "    <tr>\n",
              "      <th>min</th>\n",
              "      <td>4.600000</td>\n",
              "      <td>0.120000</td>\n",
              "      <td>0.000000</td>\n",
              "      <td>0.900000</td>\n",
              "      <td>0.012000</td>\n",
              "      <td>1.000000</td>\n",
              "      <td>6.000000</td>\n",
              "      <td>0.990070</td>\n",
              "      <td>2.740000</td>\n",
              "      <td>0.330000</td>\n",
              "      <td>8.400000</td>\n",
              "      <td>3.000000</td>\n",
              "    </tr>\n",
              "    <tr>\n",
              "      <th>25%</th>\n",
              "      <td>7.300000</td>\n",
              "      <td>0.390000</td>\n",
              "      <td>0.120000</td>\n",
              "      <td>1.900000</td>\n",
              "      <td>0.071000</td>\n",
              "      <td>7.000000</td>\n",
              "      <td>21.000000</td>\n",
              "      <td>0.996000</td>\n",
              "      <td>3.195000</td>\n",
              "      <td>0.560000</td>\n",
              "      <td>9.500000</td>\n",
              "      <td>5.000000</td>\n",
              "    </tr>\n",
              "    <tr>\n",
              "      <th>50%</th>\n",
              "      <td>8.300000</td>\n",
              "      <td>0.500000</td>\n",
              "      <td>0.290000</td>\n",
              "      <td>2.200000</td>\n",
              "      <td>0.080000</td>\n",
              "      <td>13.000000</td>\n",
              "      <td>38.000000</td>\n",
              "      <td>0.997020</td>\n",
              "      <td>3.300000</td>\n",
              "      <td>0.620000</td>\n",
              "      <td>10.000000</td>\n",
              "      <td>6.000000</td>\n",
              "    </tr>\n",
              "    <tr>\n",
              "      <th>75%</th>\n",
              "      <td>9.600000</td>\n",
              "      <td>0.630000</td>\n",
              "      <td>0.450000</td>\n",
              "      <td>2.700000</td>\n",
              "      <td>0.092000</td>\n",
              "      <td>21.000000</td>\n",
              "      <td>63.000000</td>\n",
              "      <td>0.998175</td>\n",
              "      <td>3.390000</td>\n",
              "      <td>0.735000</td>\n",
              "      <td>11.000000</td>\n",
              "      <td>6.000000</td>\n",
              "    </tr>\n",
              "    <tr>\n",
              "      <th>max</th>\n",
              "      <td>15.900000</td>\n",
              "      <td>1.330000</td>\n",
              "      <td>1.000000</td>\n",
              "      <td>15.500000</td>\n",
              "      <td>0.611000</td>\n",
              "      <td>68.000000</td>\n",
              "      <td>289.000000</td>\n",
              "      <td>1.003200</td>\n",
              "      <td>3.900000</td>\n",
              "      <td>2.000000</td>\n",
              "      <td>14.900000</td>\n",
              "      <td>8.000000</td>\n",
              "    </tr>\n",
              "  </tbody>\n",
              "</table>\n",
              "</div>\n",
              "      <button class=\"colab-df-convert\" onclick=\"convertToInteractive('df-4b168b5b-558f-4e21-8f73-78e1daf1eeec')\"\n",
              "              title=\"Convert this dataframe to an interactive table.\"\n",
              "              style=\"display:none;\">\n",
              "        \n",
              "  <svg xmlns=\"http://www.w3.org/2000/svg\" height=\"24px\"viewBox=\"0 0 24 24\"\n",
              "       width=\"24px\">\n",
              "    <path d=\"M0 0h24v24H0V0z\" fill=\"none\"/>\n",
              "    <path d=\"M18.56 5.44l.94 2.06.94-2.06 2.06-.94-2.06-.94-.94-2.06-.94 2.06-2.06.94zm-11 1L8.5 8.5l.94-2.06 2.06-.94-2.06-.94L8.5 2.5l-.94 2.06-2.06.94zm10 10l.94 2.06.94-2.06 2.06-.94-2.06-.94-.94-2.06-.94 2.06-2.06.94z\"/><path d=\"M17.41 7.96l-1.37-1.37c-.4-.4-.92-.59-1.43-.59-.52 0-1.04.2-1.43.59L10.3 9.45l-7.72 7.72c-.78.78-.78 2.05 0 2.83L4 21.41c.39.39.9.59 1.41.59.51 0 1.02-.2 1.41-.59l7.78-7.78 2.81-2.81c.8-.78.8-2.07 0-2.86zM5.41 20L4 18.59l7.72-7.72 1.47 1.35L5.41 20z\"/>\n",
              "  </svg>\n",
              "      </button>\n",
              "      \n",
              "  <style>\n",
              "    .colab-df-container {\n",
              "      display:flex;\n",
              "      flex-wrap:wrap;\n",
              "      gap: 12px;\n",
              "    }\n",
              "\n",
              "    .colab-df-convert {\n",
              "      background-color: #E8F0FE;\n",
              "      border: none;\n",
              "      border-radius: 50%;\n",
              "      cursor: pointer;\n",
              "      display: none;\n",
              "      fill: #1967D2;\n",
              "      height: 32px;\n",
              "      padding: 0 0 0 0;\n",
              "      width: 32px;\n",
              "    }\n",
              "\n",
              "    .colab-df-convert:hover {\n",
              "      background-color: #E2EBFA;\n",
              "      box-shadow: 0px 1px 2px rgba(60, 64, 67, 0.3), 0px 1px 3px 1px rgba(60, 64, 67, 0.15);\n",
              "      fill: #174EA6;\n",
              "    }\n",
              "\n",
              "    [theme=dark] .colab-df-convert {\n",
              "      background-color: #3B4455;\n",
              "      fill: #D2E3FC;\n",
              "    }\n",
              "\n",
              "    [theme=dark] .colab-df-convert:hover {\n",
              "      background-color: #434B5C;\n",
              "      box-shadow: 0px 1px 3px 1px rgba(0, 0, 0, 0.15);\n",
              "      filter: drop-shadow(0px 1px 2px rgba(0, 0, 0, 0.3));\n",
              "      fill: #FFFFFF;\n",
              "    }\n",
              "  </style>\n",
              "\n",
              "      <script>\n",
              "        const buttonEl =\n",
              "          document.querySelector('#df-4b168b5b-558f-4e21-8f73-78e1daf1eeec button.colab-df-convert');\n",
              "        buttonEl.style.display =\n",
              "          google.colab.kernel.accessAllowed ? 'block' : 'none';\n",
              "\n",
              "        async function convertToInteractive(key) {\n",
              "          const element = document.querySelector('#df-4b168b5b-558f-4e21-8f73-78e1daf1eeec');\n",
              "          const dataTable =\n",
              "            await google.colab.kernel.invokeFunction('convertToInteractive',\n",
              "                                                     [key], {});\n",
              "          if (!dataTable) return;\n",
              "\n",
              "          const docLinkHtml = 'Like what you see? Visit the ' +\n",
              "            '<a target=\"_blank\" href=https://colab.research.google.com/notebooks/data_table.ipynb>data table notebook</a>'\n",
              "            + ' to learn more about interactive tables.';\n",
              "          element.innerHTML = '';\n",
              "          dataTable['output_type'] = 'display_data';\n",
              "          await google.colab.output.renderOutput(dataTable, element);\n",
              "          const docLink = document.createElement('div');\n",
              "          docLink.innerHTML = docLinkHtml;\n",
              "          element.appendChild(docLink);\n",
              "        }\n",
              "      </script>\n",
              "    </div>\n",
              "  </div>\n",
              "  "
            ]
          },
          "metadata": {},
          "execution_count": 53
        }
      ]
    },
    {
      "cell_type": "code",
      "source": [
        "feature_names = df.columns[0:-1]\n",
        "feature_names"
      ],
      "metadata": {
        "colab": {
          "base_uri": "https://localhost:8080/"
        },
        "id": "NPZTJK6TQ9O9",
        "outputId": "c15a652a-20db-439b-e517-e89694a5439c"
      },
      "execution_count": null,
      "outputs": [
        {
          "output_type": "execute_result",
          "data": {
            "text/plain": [
              "Index(['fixed acidity', 'volatile acidity', 'citric acid', 'residual sugar',\n",
              "       'chlorides', 'free sulfur dioxide', 'total sulfur dioxide', 'density',\n",
              "       'pH', 'sulphates', 'alcohol'],\n",
              "      dtype='object')"
            ]
          },
          "metadata": {},
          "execution_count": 54
        }
      ]
    },
    {
      "cell_type": "code",
      "source": [
        "training_labels = df['quality'].copy().to_numpy()\n",
        "training_set = df.drop(columns = ['quality']).copy().to_numpy()"
      ],
      "metadata": {
        "id": "NYzTnqE8D7C0"
      },
      "execution_count": null,
      "outputs": []
    },
    {
      "cell_type": "code",
      "source": [
        "training_set"
      ],
      "metadata": {
        "colab": {
          "base_uri": "https://localhost:8080/"
        },
        "id": "A5BnQ_GMEhbF",
        "outputId": "16eb1835-d0ad-43fd-d752-6c55ad0b3576"
      },
      "execution_count": null,
      "outputs": [
        {
          "output_type": "execute_result",
          "data": {
            "text/plain": [
              "array([[ 7.4 ,  0.7 ,  0.  , ...,  3.51,  0.56,  9.4 ],\n",
              "       [ 7.8 ,  0.88,  0.  , ...,  3.2 ,  0.68,  9.8 ],\n",
              "       [ 7.8 ,  0.76,  0.04, ...,  3.26,  0.65,  9.8 ],\n",
              "       ...,\n",
              "       [ 7.9 ,  0.58,  0.23, ...,  3.21,  0.58,  9.5 ],\n",
              "       [ 7.7 ,  0.57,  0.21, ...,  3.16,  0.54,  9.8 ],\n",
              "       [ 7.7 ,  0.26,  0.26, ...,  3.15,  0.79, 10.9 ]])"
            ]
          },
          "metadata": {},
          "execution_count": 56
        }
      ]
    },
    {
      "cell_type": "code",
      "source": [
        "training_labels"
      ],
      "metadata": {
        "colab": {
          "base_uri": "https://localhost:8080/"
        },
        "id": "fu_OihfwGxbR",
        "outputId": "145e3928-c21f-43be-8558-b406cbe5b1e7"
      },
      "execution_count": null,
      "outputs": [
        {
          "output_type": "execute_result",
          "data": {
            "text/plain": [
              "array([5, 5, 5, ..., 6, 6, 6])"
            ]
          },
          "metadata": {},
          "execution_count": 57
        }
      ]
    },
    {
      "cell_type": "markdown",
      "source": [
        "## Problem A"
      ],
      "metadata": {
        "id": "X9tfTeXNDpgq"
      }
    },
    {
      "cell_type": "code",
      "source": [
        "X = training_set.copy()\n",
        "Y = training_labels.copy()"
      ],
      "metadata": {
        "id": "Vje7nTICDWT3"
      },
      "execution_count": null,
      "outputs": []
    },
    {
      "cell_type": "code",
      "source": [
        "def generateX(X): \n",
        "  return X\n",
        "def generateY(Y):\n",
        "  return Y.T"
      ],
      "metadata": {
        "id": "1cU_EzwK7XCA"
      },
      "execution_count": null,
      "outputs": []
    },
    {
      "cell_type": "code",
      "source": [
        "def cal_theta(X,Y):\n",
        "  A = generateX(X)\n",
        "  B = generateY(Y)\n",
        "  theta = np.linalg.inv(A.T @ A) @ (A.T @ B)\n",
        "  return theta"
      ],
      "metadata": {
        "id": "Vc3GF6VVdci3"
      },
      "execution_count": null,
      "outputs": []
    },
    {
      "cell_type": "code",
      "source": [
        "def cal_r_norm(theta, X, Y):\n",
        "\n",
        "  A = generateX(X)\n",
        "  B = generateY(Y)\n",
        "\n",
        "\n",
        "\n",
        "  r = A @ theta - B\n",
        "  r_norm = np.linalg.norm(r,2)\n",
        "\n",
        "\n",
        "  return r, r_norm       "
      ],
      "metadata": {
        "id": "XkrXeulL-oOj"
      },
      "execution_count": null,
      "outputs": []
    },
    {
      "cell_type": "code",
      "source": [
        "theta = cal_theta(X, Y)\n",
        "r, r_norm = cal_r_norm(theta, X, Y)\n",
        "\n",
        "print(theta.T)\n",
        "print(r_norm)\n"
      ],
      "metadata": {
        "colab": {
          "base_uri": "https://localhost:8080/"
        },
        "id": "ERo-WEB7_QBG",
        "outputId": "dc5e7322-e2c0-4813-df67-07ee64f5f12c"
      },
      "execution_count": null,
      "outputs": [
        {
          "output_type": "stream",
          "name": "stdout",
          "text": [
            "[ 5.92516137e-03 -1.10803754e+00 -2.63046284e-01  1.53222831e-02\n",
            " -1.73050274e+00  3.80141908e-03 -3.89899869e-03  4.33858768e+00\n",
            " -4.58535475e-01  7.29718662e-01  3.08858648e-01]\n",
            "22.12434596534916\n"
          ]
        }
      ]
    },
    {
      "cell_type": "code",
      "source": [
        "# plt.plot(X,Y,'o',color = 'blue')\n",
        "# theta = cal_theta(X,Y)\n",
        "# t = np.linspace(min(X),max(X),1000)\n",
        "# y_t = [theta[0] + theta[1] * i for i in t]\n",
        "# plt.plot(t, y_t,'o',color = 'red')\n",
        "# plt.show()"
      ],
      "metadata": {
        "id": "_s-qGmRndo2f"
      },
      "execution_count": null,
      "outputs": []
    },
    {
      "cell_type": "markdown",
      "source": [
        "## Problem B"
      ],
      "metadata": {
        "id": "bDVAVXDnKdHf"
      }
    },
    {
      "cell_type": "code",
      "source": [
        "def split_training_validation(sample, label, rate=0.8):\n",
        "  lim = int(0.8 * len(sample))\n",
        "  training_data, validation_data = sample[:lim], sample[lim:]\n",
        "  training_label, validation_label = label[:lim], label[lim:]\n",
        "\n",
        "  return training_data, training_label, validation_data, validation_label\n"
      ],
      "metadata": {
        "id": "fu7-vt9jJ17x"
      },
      "execution_count": null,
      "outputs": []
    },
    {
      "cell_type": "code",
      "source": [
        "def cross_val_on_features(sample, label):\n",
        "  best_theta = None\n",
        "  best_feature = -1\n",
        "  min_loss = np.Inf\n",
        "\n",
        "  training_data, training_label, validation_data, validation_label = split_training_validation(sample, label)\n",
        "\n",
        "\n",
        "\n",
        "  for i in range(X.shape[1]):\n",
        "    data = np.expand_dims(training_data[:, i].copy(), axis=1)\n",
        "    val_data = np.expand_dims(validation_data[:, i].copy(), axis=1)\n",
        "\n",
        "    theta = cal_theta(data, training_label)\n",
        "    \n",
        "    r, r_norm = cal_r_norm(theta, val_data, validation_label)\n",
        "    print(f'#{i} Model with feature {feature_names[i]} has loss:\\t', r_norm)\n",
        "    if min_loss > r_norm:\n",
        "      min_loss = r_norm \n",
        "      best_theta = theta\n",
        "      best_feature = i \n",
        "  \n",
        "  return best_theta, best_feature, min_loss\n",
        "\n",
        "b_best_theta, b_best_feature, b_min_loss = cross_val_on_features(training_set, training_labels)\n",
        "print('----------------------------------------------------------------------------------')\n",
        "if b_best_feature == -1: \n",
        "  print('Invalid')\n",
        "else : \n",
        "  print('Theta of best model: ', b_best_theta.T)\n",
        "  print('Feature is used in best model: ',  feature_names[b_best_feature])\n",
        "  print('Loss of best model: ', b_min_loss)\n"
      ],
      "metadata": {
        "colab": {
          "base_uri": "https://localhost:8080/"
        },
        "id": "iy_SInbUKfSi",
        "outputId": "80550ebc-26d4-4883-bb76-7538d7aebc89"
      },
      "execution_count": null,
      "outputs": [
        {
          "output_type": "stream",
          "name": "stdout",
          "text": [
            "#0 Model with feature fixed acidity has loss:\t 22.041808053764353\n",
            "#1 Model with feature volatile acidity has loss:\t 39.89514128701954\n",
            "#2 Model with feature citric acid has loss:\t 48.48312962323622\n",
            "#3 Model with feature residual sugar has loss:\t 45.5437048701165\n",
            "#4 Model with feature chlorides has loss:\t 44.828152372795806\n",
            "#5 Model with feature free sulfur dioxide has loss:\t 56.648960319915034\n",
            "#6 Model with feature total sulfur dioxide has loss:\t 64.31904224903731\n",
            "#7 Model with feature density has loss:\t 13.447132308400061\n",
            "#8 Model with feature pH has loss:\t 14.437994449295825\n",
            "#9 Model with feature sulphates has loss:\t 22.301717882131076\n",
            "#10 Model with feature alcohol has loss:\t 10.796346726142648\n",
            "----------------------------------------------------------------------------------\n",
            "Theta of best model:  [0.54468491]\n",
            "Feature is used in best model:  alcohol\n",
            "Loss of best model:  10.796346726142648\n"
          ]
        }
      ]
    },
    {
      "cell_type": "markdown",
      "source": [
        "## Problem C"
      ],
      "metadata": {
        "id": "1c4FZ-6gTjZC"
      }
    },
    {
      "cell_type": "code",
      "source": [
        "def custom_generateX(X):  \n",
        "  vars = []\n",
        "\n",
        "  X_0 = np.ones((X.shape[0])) # contains only theta_0, (N)\n",
        "  vars.append(X_0)\n",
        "  \n",
        "  # X_1 = np.array([i for i in X[:, 0]]) # (N) # 4\n",
        "  # vars.append(X_1)\n",
        "\n",
        "  X_2 = np.array([i for i in X[:, 1]]) # (N) # 6\n",
        "  vars.append(X_2)\n",
        "\n",
        "  X_3 = np.array([np.exp(i) for i in X[:, 2]]) # (N)\n",
        "  vars.append(X_3)\n",
        "\n",
        "  X_4 = np.array([i for i in X[:, 3]]) # (N) # 7\n",
        "  vars.append(X_4)\n",
        "\n",
        "  X_5 = np.array([i for i in X[:, 4]]) # (N)\n",
        "  vars.append(X_5)\n",
        "\n",
        "  X_6 = np.array([np.exp(i) for i in X[:, 5]]) # (N)\n",
        "  vars.append(X_6)\n",
        "\n",
        "  X_7 = np.array([i for i in X[:, 6]]) # (N)\n",
        "  vars.append(X_7)\n",
        "\n",
        "  X_8 = np.array([i for i in X[:, 7]]) # (N) # 2\n",
        "  # X_8 = (X_8 - X_8.mean()) / X_8.std()\n",
        "  vars.append(X_8)\n",
        "\n",
        "  X_9 = np.array([i for i in X[:, 8]]) # (N) # 3\n",
        "  # X_9 = (X_9 - X_9.mean()) / X_9.std()\n",
        "  vars.append(X_9)\n",
        "\n",
        "  X_10 = np.array([i for i in X[:, 9]]) # (N) # 5\n",
        "  vars.append(X_10)\n",
        "\n",
        "  X_11 = np.array([i**2 for i in X[:, 10]]) # (N) # 1\n",
        "  vars.append(X_11)\n",
        "\n",
        "  return np.stack(vars).T # function contains 3 features only\n",
        "\n",
        "def custom_generateY(Y):\n",
        "  return Y.T"
      ],
      "metadata": {
        "id": "4ruKpw-bGC3v"
      },
      "execution_count": null,
      "outputs": []
    },
    {
      "cell_type": "code",
      "source": [
        "def custom_cal_theta(X,Y):\n",
        "  A = custom_generateX(X)\n",
        "  B = custom_generateY(Y)\n",
        "\n",
        "  theta = np.linalg.inv(A.T @ A) @ (A.T @ B)\n",
        "  return theta"
      ],
      "metadata": {
        "id": "bkSpefehXRDN"
      },
      "execution_count": null,
      "outputs": []
    },
    {
      "cell_type": "code",
      "source": [
        "def custom_cal_r_norm(theta, X, Y):\n",
        "  A = custom_generateX(X)\n",
        "  B = custom_generateY(Y)\n",
        "\n",
        "  r = A @ theta - B\n",
        "  r_norm = np.linalg.norm(r,2)\n",
        "\n",
        "\n",
        "  return r, r_norm       "
      ],
      "metadata": {
        "id": "NBVPkXK8YxV6"
      },
      "execution_count": null,
      "outputs": []
    },
    {
      "cell_type": "code",
      "source": [
        "theta = custom_cal_theta(X, Y)\n",
        "r, r_norm = custom_cal_r_norm(theta, X, Y)\n",
        "\n",
        "print(theta.T)\n",
        "print(r_norm)"
      ],
      "metadata": {
        "colab": {
          "base_uri": "https://localhost:8080/"
        },
        "id": "3glccQA5XhbU",
        "outputId": "2e46b28a-a8a5-46c6-c432-61a144eb8b36"
      },
      "execution_count": null,
      "outputs": [
        {
          "output_type": "stream",
          "name": "stdout",
          "text": [
            "[ 1.46077205e+01 -1.07250498e+00 -1.12499059e-01  2.30790445e-02\n",
            " -1.86953709e+00  2.27033303e-31 -3.40928204e-03 -8.49693854e+00\n",
            " -4.45796407e-01  7.69067236e-01  1.34446445e-02]\n",
            "22.182698785448395\n"
          ]
        }
      ]
    }
  ]
}