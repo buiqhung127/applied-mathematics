{
  "nbformat": 4,
  "nbformat_minor": 0,
  "metadata": {
    "colab": {
      "name": "gaussian-elimination-backward-substitution.ipynb",
      "provenance": [],
      "collapsed_sections": []
    },
    "kernelspec": {
      "name": "python3",
      "display_name": "Python 3"
    },
    "language_info": {
      "name": "python"
    }
  },
  "cells": [
    {
      "cell_type": "code",
      "source": [
        "# A = [[1, 2, -1, -1],\n",
        "#      [2, 2, 1, 1],\n",
        "#      [3, 5, -2, -1]]\n",
        "\n",
        "# A = [[1, -2, -1, 1],\n",
        "#      [2, -3, 1, 6], \n",
        "#      [3, -5, 0, 7],\n",
        "#      [1, 0, 5, 9]]\n",
        "\n",
        "# A = [[1, 2, 0, 2, 6],\n",
        "#      [3, 5, -1, 6, 17],\n",
        "#      [2, 4, 1, 2, 12],\n",
        "#      [2, 0, -7, 11, 7]]\n",
        "\n",
        "# A = [[2, -4, -1, 1],\n",
        "#      [1, -3, 1, 1],\n",
        "#      [3, -5, -3, 2]]\n",
        "\n",
        "# A = [[1, 2, -2, 3],\n",
        "#      [3, -1, 1, 1],\n",
        "#      [-1, 5, -5, 5]]\n",
        "\n",
        "# A = [[2, -4, 6, 8],\n",
        "#      [1, -1, 1, -1],\n",
        "#      [1, -3, 4, 0]]\n",
        "\n",
        "# A = [[4, -2, -4, 2, 1],\n",
        "#      [6, -3, 0, -5, 3],\n",
        "#      [8, -4, 28, -44, 11],\n",
        "#      [-8, 4, -4, 12, -5]]\n",
        "\n",
        "A = [[1, -2, 3, -3],\n",
        "     [2, 2, 0, 0],\n",
        "     [0, -3, 4, 1],\n",
        "     [1, 0, 1, -1]]\n",
        "\n",
        "# A = [[3, -3, 3, -3],\n",
        "#      [-1, -5, 2, 4],\n",
        "#      [0, -4, 2, 2],\n",
        "#      [3, -1, 2, -4]]\n",
        "\n",
        "# A = [[1, -1, 1, -3, 0],\n",
        "#      [2, -1, 4, -2, 0]]\n",
        "\n",
        "# A = [[2, -3, 4, -1, 0],\n",
        "#      [6, 1, -8, 9, 0],\n",
        "#      [2, 6, 1, -1, 0]]\n",
        "\n",
        "# A = [[1, 6, 4, 0],\n",
        "#      [2, 4, -1, 0],\n",
        "#      [-1, 2, 5, 0]]"
      ],
      "metadata": {
        "id": "pbvxDMOLJxCf"
      },
      "execution_count": 1,
      "outputs": []
    },
    {
      "cell_type": "code",
      "source": [
        "def is_zero(num, epsilon=1e-8):\n",
        "  if abs(num) < epsilon:\n",
        "    return True \n",
        "  else:\n",
        "    return False\n"
      ],
      "metadata": {
        "id": "xqOZVbs-_3f-"
      },
      "execution_count": 2,
      "outputs": []
    },
    {
      "cell_type": "code",
      "source": [
        "def display_matrix_fn(A):\n",
        "  for i in range(0, len(A)):\n",
        "    for j in range(0, len(A[0])):\n",
        "      print(A[i][j], end='\\t')\n",
        "    print('')"
      ],
      "metadata": {
        "id": "RprOodAS7vc8"
      },
      "execution_count": 3,
      "outputs": []
    },
    {
      "cell_type": "code",
      "source": [
        "def swap_row_fn(A, i, j):\n",
        "  A_new = A.copy()\n",
        "  for k in range(len(A_new[0])):\n",
        "    A_new[i][k], A_new[j][k] = A_new[j][k], A_new[i][k]\n",
        "  return A_new \n",
        "# swap_row_fn(A, 0 , 1)"
      ],
      "metadata": {
        "id": "julGxPQ6GvWB"
      },
      "execution_count": 4,
      "outputs": []
    },
    {
      "cell_type": "code",
      "source": [
        "def add_broadcasting_fn(A, B):\n",
        "  result = [] \n",
        "  for i in range(len(A)):\n",
        "    result.append(A[i] + B[i])\n",
        "  return result"
      ],
      "metadata": {
        "id": "shtPFotDe05U"
      },
      "execution_count": 5,
      "outputs": []
    },
    {
      "cell_type": "code",
      "source": [
        "def mul_scalar_fn(vector, x):\n",
        "  new_vector = vector.copy()\n",
        "  for i in range(0, len(new_vector)):\n",
        "    new_vector[i] = vector[i] * x\n",
        "  return new_vector\n",
        "# mul_scalar_fn(A[0], 4)"
      ],
      "metadata": {
        "id": "Rk5FEWwTHGvI"
      },
      "execution_count": 6,
      "outputs": []
    },
    {
      "cell_type": "code",
      "source": [
        "def eliminate_fn(A, i, j, k):\n",
        "  A_new = A.copy()\n",
        "  for index in range(0, len(A_new[0])):\n",
        "     A_new[j][index] = A_new[j][index] + A_new[i][index] * k\n",
        "  return A_new\n",
        "# print(eliminate_fn(A, 0 , 1, -5))"
      ],
      "metadata": {
        "id": "gm7hrNxKJJys"
      },
      "execution_count": 7,
      "outputs": []
    },
    {
      "cell_type": "code",
      "source": [
        ""
      ],
      "metadata": {
        "id": "CP2rmZhsM3M6"
      },
      "execution_count": 7,
      "outputs": []
    },
    {
      "cell_type": "code",
      "source": [
        "M = len(A)\n",
        "N = len(A[0])"
      ],
      "metadata": {
        "id": "gqj44AlRNIQW"
      },
      "execution_count": 8,
      "outputs": []
    },
    {
      "cell_type": "code",
      "source": [
        "def find_first_col_fn(A, limX, limY): # checked limit\n",
        "  for j in range(limX, N - 1): \n",
        "    for i in range(limY, M):\n",
        "      # if A[i][j] != 0:\n",
        "      if not is_zero(A[i][j]): \n",
        "        return j, i \n",
        "  return None\n",
        "    "
      ],
      "metadata": {
        "id": "RXZIwKxuMvwF"
      },
      "execution_count": 9,
      "outputs": []
    },
    {
      "cell_type": "code",
      "source": [
        "def check_no_sol_fn(A): # checked limit\n",
        "  for i in range(0, len(A)):\n",
        "    check = False\n",
        "    # if A[i][len(A[0]) - 1] != 0: # B co so hang != 0 \n",
        "    if not is_zero(A[i][len(A[0]) - 1]): # B co so hang != 0 \n",
        "      check = True\n",
        "      for j in range(0, len(A[0]) - 1):\n",
        "#           if A[i][j] != 0: \n",
        "          if not is_zero(A[i][j]): \n",
        "          \n",
        "            check = False\n",
        "            \n",
        "    if check == True: # moi so deu ben A bang 0\n",
        "      return True\n",
        "  return False"
      ],
      "metadata": {
        "id": "NRLFvzBk8rby"
      },
      "execution_count": 10,
      "outputs": []
    },
    {
      "cell_type": "code",
      "source": [
        "def check_inf_sol_fn(A): # checked limit\n",
        "  m = 0 \n",
        "  n = len(A[0]) - 1\n",
        "  for i in range(0, len(A)):\n",
        "    check = True\n",
        "    for j in range(0, len(A[0])):\n",
        "#       if A[i][j] != 0: # the whole line is zero \n",
        "      if not is_zero(A[i][j]): # the whole line is zero \n",
        "\n",
        "        check = False\n",
        "    if not check:\n",
        "      m += 1\n",
        "  # print(m, n)\n",
        "  if m == n: # 1 nghiem \n",
        "    return False\n",
        "  else: # vo so nghiem\n",
        "    return True"
      ],
      "metadata": {
        "id": "CbQKUCuj-io8"
      },
      "execution_count": 11,
      "outputs": []
    },
    {
      "cell_type": "code",
      "source": [
        "def to_one_hot_fn(leng, index):\n",
        "  vector = [0] * leng\n",
        "  vector[index] = 1\n",
        "  return vector"
      ],
      "metadata": {
        "id": "arWQGUX9RVfK"
      },
      "execution_count": 12,
      "outputs": []
    },
    {
      "cell_type": "code",
      "source": [
        "def sub_1_sol_fn(A):\n",
        "  # print('matrix: ')\n",
        "  # print(A)\n",
        "  sol = [0] * (len(A))\n",
        "  for i in range(len(A) - 1, -1, -1): # giai tu duoi len\n",
        "    sol[i] = A[i][len(A[0]) - 1]\n",
        "    # print('x_', i)\n",
        "    for j in range(i + 1, len(A[0]) - 1):\n",
        "      sol[i] = sol[i] - sol[j] * A[i][j] \n",
        "      # print(j, end=' ; \\n')\n",
        "    # print(f'sol{i}', sol[i])\n",
        "\n",
        "  # print(sol)\n",
        "  return sol"
      ],
      "metadata": {
        "id": "I0KemT_G_ufD"
      },
      "execution_count": 13,
      "outputs": []
    },
    {
      "cell_type": "code",
      "source": [
        "def sub_inf_sol_fn(A):\n",
        "  m, n = len(A), len(A[0]) - 1\n",
        "  status = [0] * n # n - 1 bien \n",
        "  i = 0 \n",
        "  j = 0 \n",
        "  while i < m and j < n:\n",
        "    if A[i][j] == 1:\n",
        "      status[j] = i + 1 # cot luu information cua dong\n",
        "      i = i + 1 \n",
        "      j = j + 1\n",
        "\n",
        "    elif is_zero(A[i][j]):\n",
        "      j = j + 1\n",
        "    else:\n",
        "      i = i + 1 \n",
        "  \n",
        "\n",
        "  sol = [] \n",
        "  for i in range(len(status)):\n",
        "    if status[i] != 0: \n",
        "      sol.append([0] * (n + 1))\n",
        "    else : # muon bien tu do \n",
        "      sol.append(to_one_hot_fn(n + 1, i))\n",
        "  \n",
        "  sol.append(to_one_hot_fn(n + 1, n))\n",
        "\n",
        "  \n",
        "  # print('very first sol ', sol)\n",
        "  for i in range(m):\n",
        "    A[i][len(A[0]) - 1] = -A[i][len(A[0]) - 1]\n",
        "  for j in range(len(status) - 1, -1, -1):\n",
        "    if status[j] != 0:\n",
        "        row = status[j] - 1\n",
        "        for i in range(j + 1, n + 1):\n",
        "          sol[j] = add_broadcasting_fn(mul_scalar_fn(sol[i], -1 * A[row][i]), sol[j] )\n",
        "\n",
        "  return sol \n",
        "  "
      ],
      "metadata": {
        "id": "3EkjNm8iJ_7Q"
      },
      "execution_count": 14,
      "outputs": []
    },
    {
      "cell_type": "code",
      "source": [
        ""
      ],
      "metadata": {
        "id": "Ij9-NK6BqK4X"
      },
      "execution_count": 14,
      "outputs": []
    },
    {
      "cell_type": "code",
      "source": [
        "def Gauss_elimination(A):\n",
        "  cur_col = 0 \n",
        "  cur_row = 0 \n",
        "  limX = 0 \n",
        "  limY = 0\n",
        "  con_row = -1 \n",
        "  newA = A.copy()\n",
        "  while True:\n",
        "    res = find_first_col_fn(newA, limX, limY)\n",
        "    # print(res)\n",
        "    if not res:\n",
        "      return newA \n",
        "    cur_col, cur_row = res  # toa do dau tien khac 0, chay theo hang roi moi toi cot\n",
        "    \n",
        "    con_row += 1 \n",
        "    if cur_row != con_row:\n",
        "      newA = swap_row_fn(newA, cur_row, con_row)\n",
        "      # print(newA)\n",
        "    newA[con_row] = mul_scalar_fn(newA[con_row], 1 / newA[con_row][cur_col]) # luc nay A[con_row][cur_col] da khac 0 \n",
        "    for i in range(con_row + 1, M):\n",
        "      if newA[i][cur_col] != 0:\n",
        "        newA = eliminate_fn(newA, con_row, i, - newA[i][cur_col] / newA[con_row][cur_col])\n",
        "    \n",
        "    limX = cur_col + 1\n",
        "    limY = con_row + 1\n",
        "    # print(limX, limY)\n",
        "    # display_matrix_fn(newA)\n",
        "    # print(f'Step {con_row}')\n",
        "    \n",
        "  return newA"
      ],
      "metadata": {
        "id": "WaSpLZHnMGDJ"
      },
      "execution_count": 15,
      "outputs": []
    },
    {
      "cell_type": "code",
      "source": [
        "# print(A)"
      ],
      "metadata": {
        "id": "ESb8TAlK7U2N"
      },
      "execution_count": 16,
      "outputs": []
    },
    {
      "cell_type": "code",
      "source": [
        "A = Gauss_elimination(A)\n",
        "print('Matrix after Gauss elimination: ')\n",
        "display_matrix_fn(A)"
      ],
      "metadata": {
        "colab": {
          "base_uri": "https://localhost:8080/"
        },
        "id": "fE-lC1FpRo3d",
        "outputId": "cd283629-702e-413a-d7bf-c00025f74cb1"
      },
      "execution_count": 17,
      "outputs": [
        {
          "output_type": "stream",
          "name": "stdout",
          "text": [
            "Matrix after Gauss elimination: \n",
            "1.0\t-2.0\t3.0\t-3.0\t\n",
            "0.0\t1.0\t-1.0\t1.0\t\n",
            "0.0\t0.0\t1.0\t4.0\t\n",
            "0.0\t0.0\t0.0\t0.0\t\n"
          ]
        }
      ]
    },
    {
      "cell_type": "code",
      "source": [
        "def simplify_matrix_fn(A):\n",
        "  A_new = [] \n",
        "  for i in range(0, len(A)):\n",
        "    check = False\n",
        "    for j in range(0, len(A[0])):\n",
        "      if not is_zero(A[i][j]):\n",
        "        check = True\n",
        "    if check:\n",
        "      A_new.append(A[i])\n",
        "  return A_new"
      ],
      "metadata": {
        "id": "By8qLMhqO81p"
      },
      "execution_count": 18,
      "outputs": []
    },
    {
      "cell_type": "code",
      "source": [
        "def simplify_solution_fn(A):\n",
        "  A_new = A.copy()\n",
        "  A_new = A_new[: len(A_new) - 1]\n",
        "  return A_new"
      ],
      "metadata": {
        "id": "jO8znAQ0Vkyt"
      },
      "execution_count": 19,
      "outputs": []
    },
    {
      "cell_type": "code",
      "source": [
        "def display_solution_fn(A):\n",
        "  free_var = set([])\n",
        "  print('---------------------------------------')\n",
        "  print('Solution: ')\n",
        "  for i in range(len(A)):\n",
        "    print(f'x{i} =', end=' ')\n",
        "    if A[i][len(A[0]) - 1] != 0:\n",
        "      print(f'{A[i][len(A[0]) - 1]:2f}' , end=' ')\n",
        "    for j in range(0, len(A[0]) - 1):\n",
        "      if A[i][j] != 0:\n",
        "        free_var.add(j)\n",
        "        if A[i][j] > 0:\n",
        "          print(f'+ {A[i][j]:.2f}*a{j}', end=' ')\n",
        "        else: \n",
        "          print(f'{A[i][j]:.2f}*a{j}', end=' ')\n",
        "    print('')\n",
        "  print('With ', end='')\n",
        "  for val in free_var:\n",
        "    print(f'a{val}', end=' ') \n",
        "  print('in R')"
      ],
      "metadata": {
        "id": "NX-YGy_KYOAI"
      },
      "execution_count": 20,
      "outputs": []
    },
    {
      "cell_type": "code",
      "source": [
        "def display_1_solution_fn(sol):\n",
        "  print('---------------------------------------')\n",
        "  print('Solution: ')\n",
        "  for i in range(0, len(sol)):\n",
        "    print(f'x{i} = {sol[i]}')"
      ],
      "metadata": {
        "id": "I_SIEjiJanw9"
      },
      "execution_count": 21,
      "outputs": []
    },
    {
      "cell_type": "code",
      "source": [
        "def back_subtitution(A):\n",
        "  print('Matrix: ')\n",
        "  display_matrix_fn(A)\n",
        "  if check_no_sol_fn(A):\n",
        "    print('No solution !')\n",
        "    # return None\n",
        "  elif check_inf_sol_fn(A):\n",
        "    print('Infinite number of solutions !')\n",
        "    A = sub_inf_sol_fn(A)\n",
        "    # display_matrix_fn(A)\n",
        "    res = simplify_solution_fn(A)\n",
        "    display_solution_fn(res)    \n",
        "\n",
        "  else:\n",
        "    print('There is 1 solution: ')\n",
        "    A = simplify_matrix_fn(A)\n",
        "    # display_matrix_fn(sub_1_sol_fn(A))\n",
        "    display_1_solution_fn(sub_1_sol_fn(A))\n",
        "\n",
        "    \n",
        "back_subtitution(A)"
      ],
      "metadata": {
        "id": "2fS5pQ-5C4mc",
        "colab": {
          "base_uri": "https://localhost:8080/"
        },
        "outputId": "2de2a8de-3384-4800-82c1-ace00deafec9"
      },
      "execution_count": 22,
      "outputs": [
        {
          "output_type": "stream",
          "name": "stdout",
          "text": [
            "Matrix: \n",
            "1.0\t-2.0\t3.0\t-3.0\t\n",
            "0.0\t1.0\t-1.0\t1.0\t\n",
            "0.0\t0.0\t1.0\t4.0\t\n",
            "0.0\t0.0\t0.0\t0.0\t\n",
            "There is 1 solution: \n",
            "---------------------------------------\n",
            "Solution: \n",
            "x0 = -5.0\n",
            "x1 = 5.0\n",
            "x2 = 4.0\n"
          ]
        }
      ]
    }
  ]
}