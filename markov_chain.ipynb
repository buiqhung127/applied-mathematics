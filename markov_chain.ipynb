{
  "nbformat": 4,
  "nbformat_minor": 0,
  "metadata": {
    "colab": {
      "provenance": []
    },
    "kernelspec": {
      "name": "python3",
      "display_name": "Python 3"
    },
    "language_info": {
      "name": "python"
    }
  },
  "cells": [
    {
      "cell_type": "code",
      "execution_count": null,
      "metadata": {
        "id": "wSI4Bvzx9pAc"
      },
      "outputs": [],
      "source": [
        "import random "
      ]
    },
    {
      "cell_type": "code",
      "source": [
        "m = int(input('Input m: '))\n",
        "n = int(input('Input n: '))"
      ],
      "metadata": {
        "colab": {
          "base_uri": "https://localhost:8080/"
        },
        "id": "anShDV879y-b",
        "outputId": "d4f81180-797b-43f1-a732-4dbc3de1f4de"
      },
      "execution_count": null,
      "outputs": [
        {
          "name": "stdout",
          "output_type": "stream",
          "text": [
            "Input m: 10\n",
            "Input n: 1\n"
          ]
        }
      ]
    },
    {
      "cell_type": "code",
      "source": [
        "def print_mat(a):\n",
        "  for i in range(len(a)):\n",
        "    for j in range(len(a[0])):\n",
        "      print(a[i][j], end='\\t')\n",
        "    print(end='\\n')"
      ],
      "metadata": {
        "id": "syDDDVsSJQfW"
      },
      "execution_count": null,
      "outputs": []
    },
    {
      "cell_type": "code",
      "source": [
        "def create_vector(m, n):\n",
        "  array = [i for i in range(0, m + 1)]\n",
        "  for i in range(n, len(array)):\n",
        "    array[i] = -array[i]\n",
        "  return array\n",
        "\n",
        "print(create_vector(9, 4))"
      ],
      "metadata": {
        "colab": {
          "base_uri": "https://localhost:8080/"
        },
        "id": "4CXl2-12-Pay",
        "outputId": "905eb0b1-99e1-43cc-c0dc-40ea030db9dc"
      },
      "execution_count": null,
      "outputs": [
        {
          "output_type": "stream",
          "name": "stdout",
          "text": [
            "[0, 1, 2, 3, -4, -5, -6, -7, -8, -9]\n"
          ]
        }
      ]
    },
    {
      "cell_type": "code",
      "source": [
        "def sq_mat(n):\n",
        "  mat = [] \n",
        "  for i in range(0, n):\n",
        "    mat_r = [] \n",
        "    for j in range(0, n):\n",
        "      tog = (i + j) % 2 + 1   \n",
        "      num = random.randint(0, 10) \n",
        "      mat_r.append(num * 2 + tog)\n",
        "    mat.append(mat_r)\n",
        "  return mat\n",
        "\n",
        "print('Matrix start from row 1')\n",
        "print_mat(sq_mat(6))"
      ],
      "metadata": {
        "colab": {
          "base_uri": "https://localhost:8080/"
        },
        "id": "7ZIgexNw_31L",
        "outputId": "ef8b6be4-3e32-461d-c9a8-660f390bbf78"
      },
      "execution_count": null,
      "outputs": [
        {
          "output_type": "stream",
          "name": "stdout",
          "text": [
            "Matrix start from row 1\n",
            "3\t22\t19\t12\t19\t2\t\n",
            "2\t13\t2\t13\t8\t13\t\n",
            "1\t14\t15\t16\t5\t10\t\n",
            "2\t3\t10\t1\t20\t21\t\n",
            "9\t2\t5\t16\t3\t8\t\n",
            "10\t19\t6\t7\t2\t21\t\n"
          ]
        }
      ]
    },
    {
      "cell_type": "code",
      "source": [
        "def mat_mul(A, B):\n",
        "  # m x n | n x h\n",
        "  if len(A[0]) != len(B):\n",
        "    print('Dimension is not valid')\n",
        "    return None\n",
        "  m = len(A)\n",
        "  n = len(B)\n",
        "  h = len(B[0])\n",
        "\n",
        "  result = [[0 for j in range(h)] for i in range(m)]# np.zeros((m, h))\n",
        "\n",
        "  for i in range(m):\n",
        "    for k in range(h):\n",
        "      for j in range(n):\n",
        "        result[i][k] += A[i][j] * B[j][k]\n",
        "\n",
        "  return result"
      ],
      "metadata": {
        "id": "BRCGVCzQJqRN"
      },
      "execution_count": null,
      "outputs": []
    },
    {
      "cell_type": "code",
      "source": [
        "A = [[2, 1], [1, 3]]\n",
        "B = [[2, 1, 1], [4, 1, 1]]\n",
        "AxB = mat_mul(A, B)\n",
        "print_mat(AxB)"
      ],
      "metadata": {
        "colab": {
          "base_uri": "https://localhost:8080/"
        },
        "id": "D-wzUzpMMGV3",
        "outputId": "83a64c27-7745-42ba-be46-d0c49701227a"
      },
      "execution_count": null,
      "outputs": [
        {
          "output_type": "stream",
          "name": "stdout",
          "text": [
            "8\t3\t3\t\n",
            "14\t4\t4\t\n"
          ]
        }
      ]
    },
    {
      "cell_type": "code",
      "source": [
        "transistion_mat = [[0.3, 0.6], [0.7, 0.4]] # 2 x 2 \n",
        "init_vec =  [[0.8], [0.2]]  # 1 x 2"
      ],
      "metadata": {
        "id": "nuaVjKWSUPfn"
      },
      "execution_count": null,
      "outputs": []
    },
    {
      "cell_type": "code",
      "source": [
        "transistion_mat[0][1] # 1 x 2"
      ],
      "metadata": {
        "colab": {
          "base_uri": "https://localhost:8080/"
        },
        "id": "rX2jp1pVVcGq",
        "outputId": "0d2d1956-394d-4ec2-b401-a7ec8dc8974d"
      },
      "execution_count": null,
      "outputs": [
        {
          "output_type": "execute_result",
          "data": {
            "text/plain": [
              "0.6"
            ]
          },
          "metadata": {},
          "execution_count": 95
        }
      ]
    },
    {
      "cell_type": "code",
      "source": [
        "mat_mul(transistion_mat, init_vec)"
      ],
      "metadata": {
        "colab": {
          "base_uri": "https://localhost:8080/"
        },
        "id": "UA5mh9xSUbfk",
        "outputId": "52b87245-49ce-4308-b5c6-40b1c62abb3e"
      },
      "execution_count": null,
      "outputs": [
        {
          "output_type": "execute_result",
          "data": {
            "text/plain": [
              "[[0.36], [0.6399999999999999]]"
            ]
          },
          "metadata": {},
          "execution_count": 96
        }
      ]
    },
    {
      "cell_type": "code",
      "source": [
        "i = int(input('Input i: '))\n",
        "j = int(input('Input j: '))\n",
        "n = int(input('Input n: '))"
      ],
      "metadata": {
        "colab": {
          "base_uri": "https://localhost:8080/"
        },
        "id": "aWlfWo5eeKEj",
        "outputId": "bd639373-b76b-4d7f-d8a6-6c5f325d1616"
      },
      "execution_count": null,
      "outputs": [
        {
          "name": "stdout",
          "output_type": "stream",
          "text": [
            "Input i: 2\n",
            "Input j: 1\n",
            "Input n: 3\n"
          ]
        }
      ]
    },
    {
      "cell_type": "code",
      "source": [
        "def identity_mat(n):\n",
        "  mat = [[0 for j in range(n)] for i in range(n)]# np.zeros((m, h))\n",
        "  for i in range(0, n):\n",
        "    mat[i][i] = 1\n",
        "  return mat\n",
        "\n",
        "\n",
        "def cal_trans_mat(mat, num_step):\n",
        "  accu = identity_mat(len(mat))\n",
        "  for i in range(num_step):\n",
        "    accu = mat_mul(mat, accu)\n",
        "  return accu\n",
        "\n",
        "\n",
        "def extract_dis_mat_ele(mat, vec, i, j, n):\n",
        "  accu = cal_trans_mat(mat, n)\n",
        "  return accu[j - 1][i - 1]\n",
        "\n",
        "value = extract_dis_mat_ele(transistion_mat, init_vec, i, j, n)\n",
        "print(value)"
      ],
      "metadata": {
        "colab": {
          "base_uri": "https://localhost:8080/"
        },
        "id": "A3587vMecvBw",
        "outputId": "44d922e4-cbe8-42e2-c7ce-675eb06737c2"
      },
      "execution_count": null,
      "outputs": [
        {
          "output_type": "stream",
          "name": "stdout",
          "text": [
            "0.47400000000000003\n"
          ]
        }
      ]
    },
    {
      "cell_type": "code",
      "source": [
        "def cal_dis_vec(mat, vec, num_step): \n",
        "  accu = vec.copy()\n",
        "  for i in range(num_step):\n",
        "    accu = mat_mul(mat, accu)\n",
        "  return accu\n",
        "\n",
        "pi_n = cal_dis_vec(transistion_mat, init_vec, n)\n",
        "print(pi_n)"
      ],
      "metadata": {
        "colab": {
          "base_uri": "https://localhost:8080/"
        },
        "id": "nj3CIC-eizO6",
        "outputId": "4d414431-c1d3-4593-d2e4-f3dc0fddc77a"
      },
      "execution_count": null,
      "outputs": [
        {
          "output_type": "stream",
          "name": "stdout",
          "text": [
            "[[0.4524], [0.5476]]\n"
          ]
        }
      ]
    }
  ]
}