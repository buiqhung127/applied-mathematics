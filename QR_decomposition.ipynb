{
  "nbformat": 4,
  "nbformat_minor": 0,
  "metadata": {
    "colab": {
      "provenance": [],
      "collapsed_sections": []
    },
    "kernelspec": {
      "name": "python3",
      "display_name": "Python 3"
    },
    "language_info": {
      "name": "python"
    }
  },
  "cells": [
    {
      "cell_type": "code",
      "source": [
        "import math # chi su dung de tinh can ban 2"
      ],
      "metadata": {
        "id": "DMBl9kKK3H-Z"
      },
      "execution_count": null,
      "outputs": []
    },
    {
      "cell_type": "code",
      "execution_count": null,
      "metadata": {
        "id": "Kmjjsa-FrpgZ"
      },
      "outputs": [],
      "source": [
        "# def input_mat():\n",
        "#   m = input('Nhap so dong')\n",
        "#   n = input('Nhap so cot')\n",
        "#   A = [[0] * n for m in range(m)]\n",
        "#   for i in range(m):\n",
        "#     for j in range(n):\n",
        "#       A[i][j] = input(f'Nhap phan tu dong {i} cot {j}')\n",
        "\n",
        "#   return A\n",
        "\n",
        "# A = input_mat()"
      ]
    },
    {
      "cell_type": "code",
      "source": [
        "list_matrices = [ # danh sach tat ca cac ma tran cua de bai cau 2\n",
        "      [[1, 1, 2], \n",
        "      [2, -1, 1], \n",
        "      [-2, 4, 1]],\n",
        "     \n",
        "\n",
        "\n",
        "     [[1, 1, 1],\n",
        "      [2, -2, 2],\n",
        "      [1, 1, -1]],\n",
        "     \n",
        "\n",
        "\n",
        "\n",
        "     [[1, 1, -1],\n",
        "      [0, 1, 2],\n",
        "      [1, 1, 1]],\n",
        "     \n",
        "\n",
        "\n",
        "     [[-1, -1, 1],\n",
        "      [1, 3, 3],\n",
        "      [-1, -1, 5],\n",
        "      [1, 3, 7]\n",
        "      ],\n",
        "     \n",
        "\n",
        "\n",
        "     [[1, 1, 1],\n",
        "      [2, 2, 0],\n",
        "      [3, 0, 0],\n",
        "      [0, 0, 1]],\n",
        "     \n",
        "\n",
        "     [[-2, 1, 3],\n",
        "      [1, 0, 0],\n",
        "      [0, 1, 0],\n",
        "      [0, 0, 1]],\n",
        "     \n",
        "\n",
        "     [[1, -1, 2],\n",
        "      [1, 0, -1],\n",
        "      [-1, 1, 2],\n",
        "      [0, 1, 1]]\n",
        "     \n",
        "     \n",
        "     \n",
        "     \n",
        "     ]"
      ],
      "metadata": {
        "id": "pkVcsD1juWOl"
      },
      "execution_count": null,
      "outputs": []
    },
    {
      "cell_type": "code",
      "source": [
        "def display_matrix(A): # hiển thị ma trận một cách rõ ràng\n",
        "  for i in range(0, len(A)):\n",
        "    for j in range(0, len(A[0])):\n",
        "      if is_zero(A[i][j]):\n",
        "        print(0, end='\\t\\t')\n",
        "      else :\n",
        "        print(A[i][j], end='\\t\\t')\n",
        "    print('')"
      ],
      "metadata": {
        "id": "Bo8FiKf6yvP_"
      },
      "execution_count": null,
      "outputs": []
    },
    {
      "cell_type": "code",
      "source": [
        "def is_zero(num, epsilon=1e-8): # dùng để tránh việc sai số làm giá trị khác 0, nếu bé hơn epsilon thì ta quy ước nó là 0\n",
        "  if abs(num) < epsilon:\n",
        "    return True\n",
        "  else :\n",
        "    return False"
      ],
      "metadata": {
        "id": "pu7WH7y4uyhL"
      },
      "execution_count": null,
      "outputs": []
    },
    {
      "cell_type": "code",
      "source": [
        "def norm(vector): # tính norm l2 \n",
        "    sum = 0\n",
        "    for element in vector:\n",
        "      sum += element * element\n",
        "    return math.sqrt(sum)\n"
      ],
      "metadata": {
        "id": "HnhzjkVnugWY"
      },
      "execution_count": null,
      "outputs": []
    },
    {
      "cell_type": "code",
      "source": [
        "def broadcasting_add_vector(v1, v2): # cộng 2 vector cùng chiều\n",
        "  sum = [0] * len(v1)\n",
        "  for i in range(len(v1)):\n",
        "    sum[i] += v1[i] + v2[i]\n",
        "  return sum"
      ],
      "metadata": {
        "id": "ZULPMGN3u87L"
      },
      "execution_count": null,
      "outputs": []
    },
    {
      "cell_type": "code",
      "source": [
        "def broadcasting_mul_vector(v, a): # nhân một vector với một số vô hướng\n",
        "  res = [a] * len(v)\n",
        "  for i in range(len(v)):\n",
        "    res[i] *= v[i]\n",
        "  return res"
      ],
      "metadata": {
        "id": "C-Qujo9Jvm0P"
      },
      "execution_count": null,
      "outputs": []
    },
    {
      "cell_type": "code",
      "source": [
        "def dot_product(v1, v2): # tích vô hướng 2 vector\n",
        "  # print('2 vectors')\n",
        "  # print(v1)\n",
        "  # print(v2)\n",
        "  res = 0\n",
        "  for i in range(len(v1)):\n",
        "    res += v1[i] * v2[i]\n",
        "  return res"
      ],
      "metadata": {
        "id": "bB6vO5lewsDN"
      },
      "execution_count": null,
      "outputs": []
    },
    {
      "cell_type": "code",
      "source": [
        "def is_linear_dependent(v): # dùng để thay cho điều kiện kiểm tra độc lập tuyến tính ở ma trận đầu vào để phân rã, kiểm tra liệu vector v có phải là vector 0 \n",
        "  for val in v:\n",
        "    if not is_zero(val):\n",
        "      return False\n",
        "  return True"
      ],
      "metadata": {
        "id": "U5avo8jNxcUx"
      },
      "execution_count": null,
      "outputs": []
    },
    {
      "cell_type": "code",
      "source": [
        "def get_col(A, col): # trả về vector cột theo chỉ số col của ma trận A\n",
        "  v = []\n",
        "  for i in range(0, len(A)):\n",
        "    v.append(A[i][col])\n",
        "  return v"
      ],
      "metadata": {
        "id": "vBVjcB6f2Obs"
      },
      "execution_count": null,
      "outputs": []
    },
    {
      "cell_type": "code",
      "source": [
        "def calculate_R(Q, A): # tính toán ma trận R với Rij = Qi . Uj, với Uj là các cột của A\n",
        "  # print(A)\n",
        "  R = [[0] * len(A[0]) for i in range(len(Q))]\n",
        "  for i in range(len(Q)):\n",
        "    for j in range(len(A[0])):\n",
        "      tmp_v = get_col(A, j)\n",
        "      R[i][j] = dot_product(tmp_v, Q[i])\n",
        "\n",
        "  return R"
      ],
      "metadata": {
        "id": "WmMeBHu26_VG"
      },
      "execution_count": null,
      "outputs": []
    },
    {
      "cell_type": "code",
      "source": [
        "def orthogonal_sys(matrix): # thực hiện tính toán tìm ma trận v chứa các vector trực giao, trong khi tính toán ta luôn tiện kiểm tra điều kiện độc lập tuyến tính thông qua một tính chất khác là v phải khác 0\n",
        "  v = []\n",
        "  decompi_ble = True\n",
        "  c_0 = get_col(matrix, 0)\n",
        "  v.append(c_0)\n",
        "  for i in range(1, len(matrix[0])):\n",
        "    u = get_col(matrix, i).copy()\n",
        "    v_temp = u.copy() # u\n",
        "    for j in range(0, len(v)):\n",
        "      coef =  - dot_product(u, v[j]) / (norm(v[j]) * norm(v[j]))\n",
        "      # print(coef)\n",
        "      v_temp = broadcasting_add_vector(v_temp, broadcasting_mul_vector(v[j], coef))\n",
        "    \n",
        "    if is_linear_dependent(v_temp):\n",
        "      decompi_ble = False\n",
        "    # print(v_temp)\n",
        "    v.append(v_temp)\n",
        "    if decompi_ble == False:\n",
        "      return v, decompi_ble\n",
        "\n",
        "  return v, decompi_ble\n",
        "\n",
        "def orthonormal_sys(v): # thực hiện tính toán ma trận Q có các vector trực chuẩn\n",
        "  q = [] \n",
        "  for v_s in v:\n",
        "    coef = norm(v_s)\n",
        "    q.append(broadcasting_mul_vector(v_s, 1 /coef).copy())\n",
        "  return q\n",
        "\n",
        "\n",
        "\n",
        "\n"
      ],
      "metadata": {
        "id": "Ovuq7lPOvRHs"
      },
      "execution_count": null,
      "outputs": []
    },
    {
      "cell_type": "code",
      "source": [
        "def display_matrix_Q(Q): # để dễ lập trình, ta đã lưu trữ một cách thuận tiện ma trận Q, hàm này dùng ma trận Q đó để hiển thị Q một cách  đúng đắn hơn\n",
        "  for i in range(0, len(Q[0])):\n",
        "    for j in range(0, len(Q)):\n",
        "      if is_zero(Q[j][i]):\n",
        "        print(0, end='\\t\\t')\n",
        "      else :\n",
        "        print(Q[j][i], end='\\t\\t')\n",
        "    print('')"
      ],
      "metadata": {
        "id": "UciBrXMwAdUD"
      },
      "execution_count": null,
      "outputs": []
    },
    {
      "cell_type": "code",
      "source": [
        "def inference(list_matrices): # chạy tất cả các ma trận trong đề bài câu 2\n",
        "  for A in list_matrices:\n",
        "    V, status = orthogonal_sys(A)\n",
        "    # print('V: ')\n",
        "    print('Ma tran A ban dau : ')\n",
        "    display_matrix(A)\n",
        "    if status == False:\n",
        "      print('Ma tran nay khong phan ra QR duoc')\n",
        "    else:\n",
        "      print('Ma tran nay co the phan ra QR')\n",
        "      print('Ma tran Q: ')\n",
        "      Q = orthonormal_sys(V)  \n",
        "      display_matrix_Q(Q)\n",
        "\n",
        "      R = calculate_R(Q, A)\n",
        "      print('Ma tran R : ')\n",
        "      display_matrix(R)\n",
        "      print('-----------------------------------------------------------------------------------------------------------------------------\\n\\n')"
      ],
      "metadata": {
        "id": "lgaVl4io6914"
      },
      "execution_count": null,
      "outputs": []
    },
    {
      "cell_type": "code",
      "source": [
        "inference(list_matrices)"
      ],
      "metadata": {
        "colab": {
          "base_uri": "https://localhost:8080/"
        },
        "id": "gz6CxXWr1t99",
        "outputId": "d31d87be-7b50-4ba3-c87f-d90075e659e4"
      },
      "execution_count": null,
      "outputs": [
        {
          "output_type": "stream",
          "name": "stdout",
          "text": [
            "Ma tran A ban dau : \n",
            "1\t\t1\t\t2\t\t\n",
            "2\t\t-1\t\t1\t\t\n",
            "-2\t\t4\t\t1\t\t\n",
            "Ma tran nay co the phan ra QR\n",
            "Ma tran Q: \n",
            "0.3333333333333333\t\t0.6666666666666666\t\t0.6666666666666665\t\t\n",
            "0.6666666666666666\t\t0.3333333333333333\t\t-0.6666666666666669\t\t\n",
            "-0.6666666666666666\t\t0.6666666666666666\t\t-0.3333333333333336\t\t\n",
            "Ma tran R : \n",
            "3.0\t\t-3.0\t\t0.6666666666666666\t\t\n",
            "0\t\t3.0\t\t2.333333333333333\t\t\n",
            "0\t\t0\t\t0.3333333333333326\t\t\n",
            "-----------------------------------------------------------------------------------------------------------------------------\n",
            "\n",
            "\n",
            "Ma tran A ban dau : \n",
            "1\t\t1\t\t1\t\t\n",
            "2\t\t-2\t\t2\t\t\n",
            "1\t\t1\t\t-1\t\t\n",
            "Ma tran nay co the phan ra QR\n",
            "Ma tran Q: \n",
            "0.4082482904638631\t\t0.5773502691896257\t\t0.7071067811865474\t\t\n",
            "0.8164965809277261\t\t-0.5773502691896256\t\t0\t\t\n",
            "0.4082482904638631\t\t0.5773502691896257\t\t-0.7071067811865476\t\t\n",
            "Ma tran R : \n",
            "2.4494897427831783\t\t-0.816496580927726\t\t1.632993161855452\t\t\n",
            "0\t\t2.309401076758503\t\t-1.1547005383792512\t\t\n",
            "0\t\t0\t\t1.414213562373095\t\t\n",
            "-----------------------------------------------------------------------------------------------------------------------------\n",
            "\n",
            "\n",
            "Ma tran A ban dau : \n",
            "1\t\t1\t\t-1\t\t\n",
            "0\t\t1\t\t2\t\t\n",
            "1\t\t1\t\t1\t\t\n",
            "Ma tran nay co the phan ra QR\n",
            "Ma tran Q: \n",
            "0.7071067811865475\t\t0\t\t-0.7071067811865478\t\t\n",
            "0\t\t1.0\t\t0\t\t\n",
            "0.7071067811865475\t\t0\t\t0.7071067811865471\t\t\n",
            "Ma tran R : \n",
            "1.414213562373095\t\t1.414213562373095\t\t0\t\t\n",
            "0\t\t1.0000000000000004\t\t2.0\t\t\n",
            "0\t\t0\t\t1.414213562373095\t\t\n",
            "-----------------------------------------------------------------------------------------------------------------------------\n",
            "\n",
            "\n",
            "Ma tran A ban dau : \n",
            "-1\t\t-1\t\t1\t\t\n",
            "1\t\t3\t\t3\t\t\n",
            "-1\t\t-1\t\t5\t\t\n",
            "1\t\t3\t\t7\t\t\n",
            "Ma tran nay co the phan ra QR\n",
            "Ma tran Q: \n",
            "-0.5\t\t0.5\t\t-0.5\t\t\n",
            "0.5\t\t0.5\t\t-0.5\t\t\n",
            "-0.5\t\t0.5\t\t0.5\t\t\n",
            "0.5\t\t0.5\t\t0.5\t\t\n",
            "Ma tran R : \n",
            "2.0\t\t4.0\t\t2.0\t\t\n",
            "0\t\t2.0\t\t8.0\t\t\n",
            "0\t\t0\t\t4.0\t\t\n",
            "-----------------------------------------------------------------------------------------------------------------------------\n",
            "\n",
            "\n",
            "Ma tran A ban dau : \n",
            "1\t\t1\t\t1\t\t\n",
            "2\t\t2\t\t0\t\t\n",
            "3\t\t0\t\t0\t\t\n",
            "0\t\t0\t\t1\t\t\n",
            "Ma tran nay co the phan ra QR\n",
            "Ma tran Q: \n",
            "0.2672612419124244\t\t0.3585685828003181\t\t0.5962847939999439\t\t\n",
            "0.5345224838248488\t\t0.7171371656006362\t\t-0.29814239699997197\t\t\n",
            "0.8017837257372732\t\t-0.5976143046671969\t\t0\t\t\n",
            "0\t\t0\t\t0.7453559924999299\t\t\n",
            "Ma tran R : \n",
            "3.7416573867739413\t\t1.3363062095621219\t\t0.2672612419124244\t\t\n",
            "0\t\t1.7928429140015907\t\t0.3585685828003181\t\t\n",
            "0\t\t0\t\t1.3416407864998738\t\t\n",
            "-----------------------------------------------------------------------------------------------------------------------------\n",
            "\n",
            "\n",
            "Ma tran A ban dau : \n",
            "-2\t\t1\t\t3\t\t\n",
            "1\t\t0\t\t0\t\t\n",
            "0\t\t1\t\t0\t\t\n",
            "0\t\t0\t\t1\t\t\n",
            "Ma tran nay co the phan ra QR\n",
            "Ma tran Q: \n",
            "-0.8944271909999159\t\t0.18257418583505555\t\t0.31622776601683816\t\t\n",
            "0.4472135954999579\t\t0.36514837167011066\t\t0.6324555320336755\t\t\n",
            "0\t\t0.9128709291752769\t\t-0.3162277660168383\t\t\n",
            "0\t\t0\t\t0.6324555320336759\t\t\n",
            "Ma tran R : \n",
            "2.23606797749979\t\t-0.8944271909999159\t\t-2.6832815729997477\t\t\n",
            "0\t\t1.0954451150103324\t\t0.5477225575051666\t\t\n",
            "0\t\t0\t\t1.5811388300841904\t\t\n",
            "-----------------------------------------------------------------------------------------------------------------------------\n",
            "\n",
            "\n",
            "Ma tran A ban dau : \n",
            "1\t\t-1\t\t2\t\t\n",
            "1\t\t0\t\t-1\t\t\n",
            "-1\t\t1\t\t2\t\t\n",
            "0\t\t1\t\t1\t\t\n",
            "Ma tran nay co the phan ra QR\n",
            "Ma tran Q: \n",
            "0.5773502691896258\t\t-0.2581988897471611\t\t0.7745966692414835\t\t\n",
            "0.5773502691896258\t\t0.5163977794943223\t\t-0.2581988897471611\t\t\n",
            "-0.5773502691896258\t\t0.2581988897471611\t\t0.5163977794943222\t\t\n",
            "0\t\t0.7745966692414834\t\t0.25819888974716115\t\t\n",
            "Ma tran R : \n",
            "1.7320508075688776\t\t-1.1547005383792517\t\t-0.5773502691896258\t\t\n",
            "0\t\t1.2909944487358056\t\t0.2581988897471612\t\t\n",
            "0\t\t0\t\t3.0983866769659336\t\t\n",
            "-----------------------------------------------------------------------------------------------------------------------------\n",
            "\n",
            "\n"
          ]
        }
      ]
    }
  ]
}