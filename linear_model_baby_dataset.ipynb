{
  "nbformat": 4,
  "nbformat_minor": 0,
  "metadata": {
    "colab": {
      "provenance": [],
      "collapsed_sections": []
    },
    "kernelspec": {
      "name": "python3",
      "display_name": "Python 3"
    },
    "language_info": {
      "name": "python"
    }
  },
  "cells": [
    {
      "cell_type": "markdown",
      "source": [
        "### MSSV: 20127508\n",
        "### Tên: Bùi Quốc Hùng\n",
        "### Lớp: 20CLC03"
      ],
      "metadata": {
        "id": "PpF5QqwtBKeR"
      }
    },
    {
      "cell_type": "code",
      "source": [
        "import random \n",
        "import numpy as np\n",
        "import pandas as pd"
      ],
      "metadata": {
        "id": "6LxETYGoChXM"
      },
      "execution_count": null,
      "outputs": []
    },
    {
      "cell_type": "markdown",
      "source": [
        "1"
      ],
      "metadata": {
        "id": "-cVyA_j9Ps8o"
      }
    },
    {
      "cell_type": "code",
      "source": [
        "# input m, n\n",
        "m = int(input('Input m: '))\n",
        "n = int(input('Input n: '))"
      ],
      "metadata": {
        "colab": {
          "base_uri": "https://localhost:8080/"
        },
        "id": "lXa8SyoVBL8E",
        "outputId": "a2781745-2b58-4c76-8b06-7bab4e861079"
      },
      "execution_count": null,
      "outputs": [
        {
          "name": "stdout",
          "output_type": "stream",
          "text": [
            "Input m: 5\n",
            "Input n: 3\n"
          ]
        }
      ]
    },
    {
      "cell_type": "code",
      "source": [
        "# print matrice beautifully\n",
        "def print_mat(a):\n",
        "  for i in range(len(a)):\n",
        "    for j in range(len(a[0])):\n",
        "      print(a[i][j], end='\\t')\n",
        "    print(end='\\n')"
      ],
      "metadata": {
        "id": "5_mKwUI9EL6j"
      },
      "execution_count": null,
      "outputs": []
    },
    {
      "cell_type": "code",
      "source": [
        "# generate a matrix which have random element from lim_u to lim_d\n",
        "lim_d = 10\n",
        "lim_u = -10 \n",
        "def generate_random_mat(m, n):\n",
        "  result = [[random.randint(lim_u, lim_d) for j in range(n)] for i in range(n)]\n",
        "  return result\n",
        "P = generate_random_mat(n, n) # n x n matrix"
      ],
      "metadata": {
        "id": "ev2Rz7BkCJhr"
      },
      "execution_count": null,
      "outputs": []
    },
    {
      "cell_type": "code",
      "source": [
        "print_mat(P)"
      ],
      "metadata": {
        "colab": {
          "base_uri": "https://localhost:8080/"
        },
        "id": "WwfSzj7EEeXE",
        "outputId": "2d364be5-6cba-4b85-9296-d6c5d4a871c1"
      },
      "execution_count": null,
      "outputs": [
        {
          "output_type": "stream",
          "name": "stdout",
          "text": [
            "-3\t-9\t-3\t\n",
            "-10\t0\t-6\t\n",
            "-5\t-10\t2\t\n"
          ]
        }
      ]
    },
    {
      "cell_type": "code",
      "source": [
        "# create identity matrix\n",
        "def identity_mat(n):\n",
        "  mat = [[0 for j in range(n)] for i in range(n)]# np.zeros((m, h))\n",
        "  for i in range(0, n):\n",
        "    mat[i][i] = 1\n",
        "  return np.array(mat)\n",
        "\n",
        "\n",
        "# matrix power function\n",
        "def power_mat(mat, n):\n",
        "    accu = identity_mat(len(mat))\n",
        "    for i in range(n):\n",
        "      accu = np.dot(accu, mat)\n",
        "    return accu\n",
        "  \n",
        "\n"
      ],
      "metadata": {
        "id": "Qu7sRwlADKKH"
      },
      "execution_count": null,
      "outputs": []
    },
    {
      "cell_type": "code",
      "source": [
        "P_pm = power_mat(P, m)"
      ],
      "metadata": {
        "id": "vv5wzAq3EEo1"
      },
      "execution_count": null,
      "outputs": []
    },
    {
      "cell_type": "code",
      "source": [
        "print_mat(P_pm)"
      ],
      "metadata": {
        "colab": {
          "base_uri": "https://localhost:8080/"
        },
        "id": "mRHSjnZ7ETKT",
        "outputId": "48d2ea74-d5bf-494b-9323-fe198869f2c2"
      },
      "execution_count": null,
      "outputs": [
        {
          "output_type": "stream",
          "name": "stdout",
          "text": [
            "-292068\t-321879\t-141987\t\n",
            "-354600\t-234990\t-196326\t\n",
            "-245775\t-322645\t-110203\t\n"
          ]
        }
      ]
    },
    {
      "cell_type": "code",
      "source": [
        "dir = '/content/weights.csv' # read the weight.csv from subfolder  /content/weights.csv\n",
        "df = pd.read_csv(dir) # change directory here to your directory "
      ],
      "metadata": {
        "id": "RdiI5W3eDJbR"
      },
      "execution_count": null,
      "outputs": []
    },
    {
      "cell_type": "code",
      "source": [
        "df"
      ],
      "metadata": {
        "colab": {
          "base_uri": "https://localhost:8080/",
          "height": 424
        },
        "id": "ifR2-6QPFScl",
        "outputId": "4bed510f-6c5f-40ba-d03d-7e8842ecce62"
      },
      "execution_count": null,
      "outputs": [
        {
          "output_type": "execute_result",
          "data": {
            "text/plain": [
              "       ID  weight  length  headc\n",
              "0    L001    3.95    55.5   37.5\n",
              "1    L003    4.63    57.0   38.5\n",
              "2    L004    4.75    56.0   38.5\n",
              "3    L005    3.92    56.0   39.0\n",
              "4    L006    4.56    55.0   39.5\n",
              "..    ...     ...     ...    ...\n",
              "545  W319    5.35    57.0   39.5\n",
              "546  W320    5.39    60.0   40.0\n",
              "547  W321    3.88    52.0   36.0\n",
              "548  W322    5.23    57.5   40.0\n",
              "549  W323    4.57    53.5   37.5\n",
              "\n",
              "[550 rows x 4 columns]"
            ],
            "text/html": [
              "\n",
              "  <div id=\"df-bd9b2818-95fe-4b24-9ba2-a1dd7dc2893e\">\n",
              "    <div class=\"colab-df-container\">\n",
              "      <div>\n",
              "<style scoped>\n",
              "    .dataframe tbody tr th:only-of-type {\n",
              "        vertical-align: middle;\n",
              "    }\n",
              "\n",
              "    .dataframe tbody tr th {\n",
              "        vertical-align: top;\n",
              "    }\n",
              "\n",
              "    .dataframe thead th {\n",
              "        text-align: right;\n",
              "    }\n",
              "</style>\n",
              "<table border=\"1\" class=\"dataframe\">\n",
              "  <thead>\n",
              "    <tr style=\"text-align: right;\">\n",
              "      <th></th>\n",
              "      <th>ID</th>\n",
              "      <th>weight</th>\n",
              "      <th>length</th>\n",
              "      <th>headc</th>\n",
              "    </tr>\n",
              "  </thead>\n",
              "  <tbody>\n",
              "    <tr>\n",
              "      <th>0</th>\n",
              "      <td>L001</td>\n",
              "      <td>3.95</td>\n",
              "      <td>55.5</td>\n",
              "      <td>37.5</td>\n",
              "    </tr>\n",
              "    <tr>\n",
              "      <th>1</th>\n",
              "      <td>L003</td>\n",
              "      <td>4.63</td>\n",
              "      <td>57.0</td>\n",
              "      <td>38.5</td>\n",
              "    </tr>\n",
              "    <tr>\n",
              "      <th>2</th>\n",
              "      <td>L004</td>\n",
              "      <td>4.75</td>\n",
              "      <td>56.0</td>\n",
              "      <td>38.5</td>\n",
              "    </tr>\n",
              "    <tr>\n",
              "      <th>3</th>\n",
              "      <td>L005</td>\n",
              "      <td>3.92</td>\n",
              "      <td>56.0</td>\n",
              "      <td>39.0</td>\n",
              "    </tr>\n",
              "    <tr>\n",
              "      <th>4</th>\n",
              "      <td>L006</td>\n",
              "      <td>4.56</td>\n",
              "      <td>55.0</td>\n",
              "      <td>39.5</td>\n",
              "    </tr>\n",
              "    <tr>\n",
              "      <th>...</th>\n",
              "      <td>...</td>\n",
              "      <td>...</td>\n",
              "      <td>...</td>\n",
              "      <td>...</td>\n",
              "    </tr>\n",
              "    <tr>\n",
              "      <th>545</th>\n",
              "      <td>W319</td>\n",
              "      <td>5.35</td>\n",
              "      <td>57.0</td>\n",
              "      <td>39.5</td>\n",
              "    </tr>\n",
              "    <tr>\n",
              "      <th>546</th>\n",
              "      <td>W320</td>\n",
              "      <td>5.39</td>\n",
              "      <td>60.0</td>\n",
              "      <td>40.0</td>\n",
              "    </tr>\n",
              "    <tr>\n",
              "      <th>547</th>\n",
              "      <td>W321</td>\n",
              "      <td>3.88</td>\n",
              "      <td>52.0</td>\n",
              "      <td>36.0</td>\n",
              "    </tr>\n",
              "    <tr>\n",
              "      <th>548</th>\n",
              "      <td>W322</td>\n",
              "      <td>5.23</td>\n",
              "      <td>57.5</td>\n",
              "      <td>40.0</td>\n",
              "    </tr>\n",
              "    <tr>\n",
              "      <th>549</th>\n",
              "      <td>W323</td>\n",
              "      <td>4.57</td>\n",
              "      <td>53.5</td>\n",
              "      <td>37.5</td>\n",
              "    </tr>\n",
              "  </tbody>\n",
              "</table>\n",
              "<p>550 rows × 4 columns</p>\n",
              "</div>\n",
              "      <button class=\"colab-df-convert\" onclick=\"convertToInteractive('df-bd9b2818-95fe-4b24-9ba2-a1dd7dc2893e')\"\n",
              "              title=\"Convert this dataframe to an interactive table.\"\n",
              "              style=\"display:none;\">\n",
              "        \n",
              "  <svg xmlns=\"http://www.w3.org/2000/svg\" height=\"24px\"viewBox=\"0 0 24 24\"\n",
              "       width=\"24px\">\n",
              "    <path d=\"M0 0h24v24H0V0z\" fill=\"none\"/>\n",
              "    <path d=\"M18.56 5.44l.94 2.06.94-2.06 2.06-.94-2.06-.94-.94-2.06-.94 2.06-2.06.94zm-11 1L8.5 8.5l.94-2.06 2.06-.94-2.06-.94L8.5 2.5l-.94 2.06-2.06.94zm10 10l.94 2.06.94-2.06 2.06-.94-2.06-.94-.94-2.06-.94 2.06-2.06.94z\"/><path d=\"M17.41 7.96l-1.37-1.37c-.4-.4-.92-.59-1.43-.59-.52 0-1.04.2-1.43.59L10.3 9.45l-7.72 7.72c-.78.78-.78 2.05 0 2.83L4 21.41c.39.39.9.59 1.41.59.51 0 1.02-.2 1.41-.59l7.78-7.78 2.81-2.81c.8-.78.8-2.07 0-2.86zM5.41 20L4 18.59l7.72-7.72 1.47 1.35L5.41 20z\"/>\n",
              "  </svg>\n",
              "      </button>\n",
              "      \n",
              "  <style>\n",
              "    .colab-df-container {\n",
              "      display:flex;\n",
              "      flex-wrap:wrap;\n",
              "      gap: 12px;\n",
              "    }\n",
              "\n",
              "    .colab-df-convert {\n",
              "      background-color: #E8F0FE;\n",
              "      border: none;\n",
              "      border-radius: 50%;\n",
              "      cursor: pointer;\n",
              "      display: none;\n",
              "      fill: #1967D2;\n",
              "      height: 32px;\n",
              "      padding: 0 0 0 0;\n",
              "      width: 32px;\n",
              "    }\n",
              "\n",
              "    .colab-df-convert:hover {\n",
              "      background-color: #E2EBFA;\n",
              "      box-shadow: 0px 1px 2px rgba(60, 64, 67, 0.3), 0px 1px 3px 1px rgba(60, 64, 67, 0.15);\n",
              "      fill: #174EA6;\n",
              "    }\n",
              "\n",
              "    [theme=dark] .colab-df-convert {\n",
              "      background-color: #3B4455;\n",
              "      fill: #D2E3FC;\n",
              "    }\n",
              "\n",
              "    [theme=dark] .colab-df-convert:hover {\n",
              "      background-color: #434B5C;\n",
              "      box-shadow: 0px 1px 3px 1px rgba(0, 0, 0, 0.15);\n",
              "      filter: drop-shadow(0px 1px 2px rgba(0, 0, 0, 0.3));\n",
              "      fill: #FFFFFF;\n",
              "    }\n",
              "  </style>\n",
              "\n",
              "      <script>\n",
              "        const buttonEl =\n",
              "          document.querySelector('#df-bd9b2818-95fe-4b24-9ba2-a1dd7dc2893e button.colab-df-convert');\n",
              "        buttonEl.style.display =\n",
              "          google.colab.kernel.accessAllowed ? 'block' : 'none';\n",
              "\n",
              "        async function convertToInteractive(key) {\n",
              "          const element = document.querySelector('#df-bd9b2818-95fe-4b24-9ba2-a1dd7dc2893e');\n",
              "          const dataTable =\n",
              "            await google.colab.kernel.invokeFunction('convertToInteractive',\n",
              "                                                     [key], {});\n",
              "          if (!dataTable) return;\n",
              "\n",
              "          const docLinkHtml = 'Like what you see? Visit the ' +\n",
              "            '<a target=\"_blank\" href=https://colab.research.google.com/notebooks/data_table.ipynb>data table notebook</a>'\n",
              "            + ' to learn more about interactive tables.';\n",
              "          element.innerHTML = '';\n",
              "          dataTable['output_type'] = 'display_data';\n",
              "          await google.colab.output.renderOutput(dataTable, element);\n",
              "          const docLink = document.createElement('div');\n",
              "          docLink.innerHTML = docLinkHtml;\n",
              "          element.appendChild(docLink);\n",
              "        }\n",
              "      </script>\n",
              "    </div>\n",
              "  </div>\n",
              "  "
            ]
          },
          "metadata": {},
          "execution_count": 157
        }
      ]
    },
    {
      "cell_type": "code",
      "source": [
        "df.describe()"
      ],
      "metadata": {
        "colab": {
          "base_uri": "https://localhost:8080/",
          "height": 300
        },
        "id": "4M9TFAtMGgjk",
        "outputId": "2f36c8ae-cfb6-4fda-f202-da4f53df68fd"
      },
      "execution_count": null,
      "outputs": [
        {
          "output_type": "execute_result",
          "data": {
            "text/plain": [
              "           weight      length       headc\n",
              "count  550.000000  550.000000  550.000000\n",
              "mean     4.366418   54.840909   37.895273\n",
              "std      0.601822    2.406908    1.361564\n",
              "min      2.920000   48.000000   34.000000\n",
              "25%      3.950000   53.000000   37.000000\n",
              "50%      4.330000   55.000000   38.000000\n",
              "75%      4.770000   56.500000   39.000000\n",
              "max      6.490000   62.000000   41.200000"
            ],
            "text/html": [
              "\n",
              "  <div id=\"df-22b3d5ce-e9cb-4c63-ad45-46244f491ad1\">\n",
              "    <div class=\"colab-df-container\">\n",
              "      <div>\n",
              "<style scoped>\n",
              "    .dataframe tbody tr th:only-of-type {\n",
              "        vertical-align: middle;\n",
              "    }\n",
              "\n",
              "    .dataframe tbody tr th {\n",
              "        vertical-align: top;\n",
              "    }\n",
              "\n",
              "    .dataframe thead th {\n",
              "        text-align: right;\n",
              "    }\n",
              "</style>\n",
              "<table border=\"1\" class=\"dataframe\">\n",
              "  <thead>\n",
              "    <tr style=\"text-align: right;\">\n",
              "      <th></th>\n",
              "      <th>weight</th>\n",
              "      <th>length</th>\n",
              "      <th>headc</th>\n",
              "    </tr>\n",
              "  </thead>\n",
              "  <tbody>\n",
              "    <tr>\n",
              "      <th>count</th>\n",
              "      <td>550.000000</td>\n",
              "      <td>550.000000</td>\n",
              "      <td>550.000000</td>\n",
              "    </tr>\n",
              "    <tr>\n",
              "      <th>mean</th>\n",
              "      <td>4.366418</td>\n",
              "      <td>54.840909</td>\n",
              "      <td>37.895273</td>\n",
              "    </tr>\n",
              "    <tr>\n",
              "      <th>std</th>\n",
              "      <td>0.601822</td>\n",
              "      <td>2.406908</td>\n",
              "      <td>1.361564</td>\n",
              "    </tr>\n",
              "    <tr>\n",
              "      <th>min</th>\n",
              "      <td>2.920000</td>\n",
              "      <td>48.000000</td>\n",
              "      <td>34.000000</td>\n",
              "    </tr>\n",
              "    <tr>\n",
              "      <th>25%</th>\n",
              "      <td>3.950000</td>\n",
              "      <td>53.000000</td>\n",
              "      <td>37.000000</td>\n",
              "    </tr>\n",
              "    <tr>\n",
              "      <th>50%</th>\n",
              "      <td>4.330000</td>\n",
              "      <td>55.000000</td>\n",
              "      <td>38.000000</td>\n",
              "    </tr>\n",
              "    <tr>\n",
              "      <th>75%</th>\n",
              "      <td>4.770000</td>\n",
              "      <td>56.500000</td>\n",
              "      <td>39.000000</td>\n",
              "    </tr>\n",
              "    <tr>\n",
              "      <th>max</th>\n",
              "      <td>6.490000</td>\n",
              "      <td>62.000000</td>\n",
              "      <td>41.200000</td>\n",
              "    </tr>\n",
              "  </tbody>\n",
              "</table>\n",
              "</div>\n",
              "      <button class=\"colab-df-convert\" onclick=\"convertToInteractive('df-22b3d5ce-e9cb-4c63-ad45-46244f491ad1')\"\n",
              "              title=\"Convert this dataframe to an interactive table.\"\n",
              "              style=\"display:none;\">\n",
              "        \n",
              "  <svg xmlns=\"http://www.w3.org/2000/svg\" height=\"24px\"viewBox=\"0 0 24 24\"\n",
              "       width=\"24px\">\n",
              "    <path d=\"M0 0h24v24H0V0z\" fill=\"none\"/>\n",
              "    <path d=\"M18.56 5.44l.94 2.06.94-2.06 2.06-.94-2.06-.94-.94-2.06-.94 2.06-2.06.94zm-11 1L8.5 8.5l.94-2.06 2.06-.94-2.06-.94L8.5 2.5l-.94 2.06-2.06.94zm10 10l.94 2.06.94-2.06 2.06-.94-2.06-.94-.94-2.06-.94 2.06-2.06.94z\"/><path d=\"M17.41 7.96l-1.37-1.37c-.4-.4-.92-.59-1.43-.59-.52 0-1.04.2-1.43.59L10.3 9.45l-7.72 7.72c-.78.78-.78 2.05 0 2.83L4 21.41c.39.39.9.59 1.41.59.51 0 1.02-.2 1.41-.59l7.78-7.78 2.81-2.81c.8-.78.8-2.07 0-2.86zM5.41 20L4 18.59l7.72-7.72 1.47 1.35L5.41 20z\"/>\n",
              "  </svg>\n",
              "      </button>\n",
              "      \n",
              "  <style>\n",
              "    .colab-df-container {\n",
              "      display:flex;\n",
              "      flex-wrap:wrap;\n",
              "      gap: 12px;\n",
              "    }\n",
              "\n",
              "    .colab-df-convert {\n",
              "      background-color: #E8F0FE;\n",
              "      border: none;\n",
              "      border-radius: 50%;\n",
              "      cursor: pointer;\n",
              "      display: none;\n",
              "      fill: #1967D2;\n",
              "      height: 32px;\n",
              "      padding: 0 0 0 0;\n",
              "      width: 32px;\n",
              "    }\n",
              "\n",
              "    .colab-df-convert:hover {\n",
              "      background-color: #E2EBFA;\n",
              "      box-shadow: 0px 1px 2px rgba(60, 64, 67, 0.3), 0px 1px 3px 1px rgba(60, 64, 67, 0.15);\n",
              "      fill: #174EA6;\n",
              "    }\n",
              "\n",
              "    [theme=dark] .colab-df-convert {\n",
              "      background-color: #3B4455;\n",
              "      fill: #D2E3FC;\n",
              "    }\n",
              "\n",
              "    [theme=dark] .colab-df-convert:hover {\n",
              "      background-color: #434B5C;\n",
              "      box-shadow: 0px 1px 3px 1px rgba(0, 0, 0, 0.15);\n",
              "      filter: drop-shadow(0px 1px 2px rgba(0, 0, 0, 0.3));\n",
              "      fill: #FFFFFF;\n",
              "    }\n",
              "  </style>\n",
              "\n",
              "      <script>\n",
              "        const buttonEl =\n",
              "          document.querySelector('#df-22b3d5ce-e9cb-4c63-ad45-46244f491ad1 button.colab-df-convert');\n",
              "        buttonEl.style.display =\n",
              "          google.colab.kernel.accessAllowed ? 'block' : 'none';\n",
              "\n",
              "        async function convertToInteractive(key) {\n",
              "          const element = document.querySelector('#df-22b3d5ce-e9cb-4c63-ad45-46244f491ad1');\n",
              "          const dataTable =\n",
              "            await google.colab.kernel.invokeFunction('convertToInteractive',\n",
              "                                                     [key], {});\n",
              "          if (!dataTable) return;\n",
              "\n",
              "          const docLinkHtml = 'Like what you see? Visit the ' +\n",
              "            '<a target=\"_blank\" href=https://colab.research.google.com/notebooks/data_table.ipynb>data table notebook</a>'\n",
              "            + ' to learn more about interactive tables.';\n",
              "          element.innerHTML = '';\n",
              "          dataTable['output_type'] = 'display_data';\n",
              "          await google.colab.output.renderOutput(dataTable, element);\n",
              "          const docLink = document.createElement('div');\n",
              "          docLink.innerHTML = docLinkHtml;\n",
              "          element.appendChild(docLink);\n",
              "        }\n",
              "      </script>\n",
              "    </div>\n",
              "  </div>\n",
              "  "
            ]
          },
          "metadata": {},
          "execution_count": 158
        }
      ]
    },
    {
      "cell_type": "code",
      "source": [
        "df['ID'].count()"
      ],
      "metadata": {
        "colab": {
          "base_uri": "https://localhost:8080/"
        },
        "id": "nK37DWoNGqui",
        "outputId": "7ce9210c-9d04-425e-c605-965fb2d16d0f"
      },
      "execution_count": null,
      "outputs": [
        {
          "output_type": "execute_result",
          "data": {
            "text/plain": [
              "550"
            ]
          },
          "metadata": {},
          "execution_count": 159
        }
      ]
    },
    {
      "cell_type": "code",
      "source": [
        "# detach the Y - training_labels and X - training_set\n",
        "training_labels = df['weight'].copy().to_numpy()\n",
        "training_set = df.drop(columns = ['ID', 'weight']).copy().to_numpy()"
      ],
      "metadata": {
        "id": "CvI4xlJYHC95"
      },
      "execution_count": null,
      "outputs": []
    },
    {
      "cell_type": "code",
      "source": [
        "training_set"
      ],
      "metadata": {
        "colab": {
          "base_uri": "https://localhost:8080/"
        },
        "id": "sOiSb_sdH1Cv",
        "outputId": "13e9a0b0-ef16-4b0f-e7f3-c1b845c31cbd"
      },
      "execution_count": null,
      "outputs": [
        {
          "output_type": "execute_result",
          "data": {
            "text/plain": [
              "array([[55.5, 37.5],\n",
              "       [57. , 38.5],\n",
              "       [56. , 38.5],\n",
              "       ...,\n",
              "       [52. , 36. ],\n",
              "       [57.5, 40. ],\n",
              "       [53.5, 37.5]])"
            ]
          },
          "metadata": {},
          "execution_count": 161
        }
      ]
    },
    {
      "cell_type": "code",
      "source": [
        "training_labels"
      ],
      "metadata": {
        "colab": {
          "base_uri": "https://localhost:8080/"
        },
        "id": "24Fl343LH2BH",
        "outputId": "67fe1357-4bb5-486d-a354-d10759b05379"
      },
      "execution_count": null,
      "outputs": [
        {
          "output_type": "execute_result",
          "data": {
            "text/plain": [
              "array([3.95, 4.63, 4.75, 3.92, 4.56, 3.64, 3.55, 4.53, 4.97, 3.74, 4.19,\n",
              "       4.35, 4.62, 4.09, 4.42, 5.62, 5.25, 4.32, 4.41, 4.18, 4.29, 4.67,\n",
              "       3.97, 4.57, 4.53, 4.18, 4.78, 3.72, 4.53, 4.46, 4.11, 4.  , 3.42,\n",
              "       4.95, 3.3 , 4.52, 4.07, 4.54, 4.05, 3.34, 4.77, 4.21, 4.26, 3.88,\n",
              "       4.36, 4.65, 5.4 , 3.9 , 4.24, 3.74, 3.7 , 4.34, 4.61, 4.6 , 4.89,\n",
              "       3.69, 4.47, 5.14, 4.77, 4.5 , 5.34, 3.53, 5.02, 5.02, 5.45, 5.81,\n",
              "       3.66, 3.34, 4.2 , 4.6 , 4.84, 3.96, 4.26, 3.51, 4.62, 5.69, 4.52,\n",
              "       3.11, 3.79, 4.01, 3.54, 4.48, 4.92, 4.93, 3.9 , 4.09, 4.59, 4.39,\n",
              "       4.99, 4.18, 4.12, 3.79, 3.99, 4.62, 3.48, 4.9 , 4.26, 4.88, 4.06,\n",
              "       4.27, 4.68, 4.03, 4.1 , 4.86, 4.7 , 3.77, 4.01, 4.47, 4.78, 4.22,\n",
              "       4.73, 4.39, 4.6 , 4.15, 3.74, 3.95, 3.88, 5.11, 3.05, 3.45, 4.52,\n",
              "       3.82, 4.4 , 3.79, 5.02, 5.2 , 4.74, 3.77, 4.27, 4.41, 5.55, 4.08,\n",
              "       3.59, 5.03, 3.85, 4.01, 4.91, 5.13, 4.98, 4.32, 4.27, 5.54, 4.35,\n",
              "       4.53, 4.92, 3.8 , 3.89, 3.96, 3.85, 3.9 , 5.18, 4.01, 4.45, 5.24,\n",
              "       4.32, 5.59, 4.29, 3.71, 3.36, 3.54, 4.52, 3.69, 4.51, 3.94, 5.  ,\n",
              "       3.75, 3.98, 4.22, 5.5 , 4.8 , 3.89, 4.34, 4.32, 3.98, 4.56, 5.  ,\n",
              "       3.62, 4.33, 4.67, 5.24, 4.59, 4.06, 4.61, 4.81, 4.74, 4.36, 4.07,\n",
              "       4.46, 4.46, 4.23, 3.96, 4.36, 3.84, 4.78, 3.72, 5.43, 4.49, 4.7 ,\n",
              "       5.31, 4.19, 5.18, 4.34, 4.07, 4.11, 3.5 , 4.75, 6.33, 5.92, 5.41,\n",
              "       4.06, 2.92, 4.73, 3.73, 3.01, 4.18, 4.86, 3.7 , 3.2 , 4.  , 4.35,\n",
              "       5.45, 3.66, 4.56, 4.12, 5.08, 3.72, 5.05, 4.95, 4.39, 4.68, 4.32,\n",
              "       3.37, 3.55, 5.75, 4.89, 4.28, 4.86, 3.9 , 3.95, 4.91, 3.13, 5.2 ,\n",
              "       5.23, 4.51, 4.34, 3.6 , 4.98, 4.55, 4.27, 4.18, 3.68, 3.08, 4.9 ,\n",
              "       4.1 , 5.41, 5.22, 4.45, 4.02, 5.48, 4.83, 4.3 , 4.35, 3.76, 4.38,\n",
              "       5.18, 5.26, 4.63, 4.08, 4.23, 3.54, 5.82, 5.12, 4.03, 5.04, 4.08,\n",
              "       5.13, 3.96, 5.03, 4.06, 4.06, 4.04, 3.31, 5.43, 3.56, 5.27, 4.54,\n",
              "       4.05, 5.28, 5.33, 3.61, 4.64, 4.44, 5.28, 4.13, 5.26, 3.97, 4.7 ,\n",
              "       3.73, 4.41, 4.98, 3.69, 4.59, 4.49, 4.97, 3.99, 4.09, 4.2 , 3.46,\n",
              "       3.18, 4.61, 3.67, 4.1 , 3.28, 4.32, 4.7 , 4.57, 3.58, 4.1 , 4.6 ,\n",
              "       4.79, 3.78, 4.32, 4.33, 4.75, 5.19, 4.25, 4.05, 4.18, 4.04, 4.65,\n",
              "       2.98, 4.8 , 4.3 , 4.11, 4.76, 3.38, 4.05, 4.49, 4.7 , 4.25, 3.72,\n",
              "       3.17, 5.06, 3.9 , 4.13, 3.42, 4.01, 4.21, 4.63, 5.14, 4.87, 4.4 ,\n",
              "       3.99, 4.  , 4.8 , 4.78, 4.44, 3.51, 3.37, 3.79, 5.02, 3.93, 4.58,\n",
              "       3.8 , 3.93, 4.44, 3.81, 3.85, 4.5 , 3.67, 3.84, 3.2 , 3.37, 5.1 ,\n",
              "       4.89, 4.87, 4.61, 4.22, 3.67, 4.  , 3.9 , 3.72, 4.68, 3.85, 5.3 ,\n",
              "       4.44, 5.32, 4.33, 4.75, 4.46, 4.14, 4.18, 4.15, 5.39, 4.14, 4.07,\n",
              "       4.77, 4.2 , 3.85, 4.53, 4.41, 4.69, 3.51, 3.41, 3.68, 3.87, 4.83,\n",
              "       5.56, 4.47, 3.99, 4.7 , 3.59, 4.06, 4.13, 5.17, 3.94, 3.33, 4.7 ,\n",
              "       5.12, 4.76, 4.81, 4.5 , 4.79, 5.31, 4.2 , 3.99, 4.9 , 3.68, 4.27,\n",
              "       3.87, 4.74, 3.34, 5.29, 4.79, 4.63, 5.05, 5.1 , 4.12, 4.7 , 3.88,\n",
              "       4.04, 4.77, 3.31, 4.87, 4.55, 3.88, 4.61, 4.27, 4.79, 4.52, 4.23,\n",
              "       5.6 , 4.01, 3.48, 4.65, 4.94, 4.22, 4.8 , 3.79, 4.52, 3.91, 3.8 ,\n",
              "       3.68, 4.8 , 4.75, 4.8 , 5.05, 3.99, 5.16, 4.66, 4.62, 3.87, 4.52,\n",
              "       4.18, 3.86, 4.5 , 5.08, 4.09, 4.11, 4.14, 4.13, 3.41, 3.81, 4.42,\n",
              "       4.07, 3.36, 4.03, 4.87, 4.75, 4.13, 4.92, 4.18, 4.73, 5.75, 3.79,\n",
              "       4.31, 3.68, 4.17, 5.21, 3.01, 5.25, 4.5 , 4.84, 3.73, 5.55, 4.27,\n",
              "       3.95, 4.8 , 3.59, 3.5 , 4.76, 3.72, 4.5 , 4.33, 4.51, 4.02, 3.7 ,\n",
              "       4.12, 4.44, 5.14, 3.09, 5.4 , 4.52, 4.68, 5.76, 4.18, 4.02, 3.41,\n",
              "       4.67, 4.6 , 4.23, 3.24, 4.21, 4.17, 4.95, 4.61, 5.33, 3.71, 6.49,\n",
              "       5.09, 5.43, 4.75, 4.9 , 3.74, 4.32, 5.35, 5.39, 3.88, 5.23, 4.57])"
            ]
          },
          "metadata": {},
          "execution_count": 162
        }
      ]
    },
    {
      "cell_type": "code",
      "source": [
        "# generate X to calculate the coefficient, there are 4 functions in my work for the requirements\n",
        "def generateX(X, prob=0): \n",
        "  vars = []\n",
        "\n",
        "  if prob == 0:\n",
        "    X_0 = np.array([1 for i in range(X.shape[0])])\n",
        "    vars.append(X_0)\n",
        "    \n",
        "    X_1 = np.array([i for i in X[:, 0]]) \n",
        "    vars.append(X_1)\n",
        "\n",
        "\n",
        "\n",
        "  if prob == 1:\n",
        "    X_0 = np.array([1 for i in range(X.shape[0])])\n",
        "    vars.append(X_0)\n",
        "\n",
        "    X_2 = np.array([i for i in X[:, 1]]) \n",
        "    vars.append(X_2)\n",
        "\n",
        "\n",
        "  if prob == 2:\n",
        "    X_0 = np.array([1 for i in range(X.shape[0])])\n",
        "    \n",
        "    vars.append(X_0)\n",
        "    \n",
        "    X_1 = np.array([i for i in X[:, 0]]) \n",
        "    vars.append(X_1)\n",
        "\n",
        "    X_2 = np.array([i for i in X[:, 1]]) \n",
        "    vars.append(X_2)\n",
        "\n",
        "    \n",
        "\n",
        "\n",
        "  #---------------------------------\n",
        "\n",
        "  if prob == 3:\n",
        "    X_0 = np.array([1 for i in range(X.shape[0])])\n",
        "    \n",
        "    vars.append(X_0)\n",
        "    \n",
        "    X_1 = np.array([i for i in X[:, 0]]) \n",
        "    vars.append(X_1)\n",
        "\n",
        "    X_2 = np.array([i for i in X[:, 1]]) \n",
        "    vars.append(X_2)\n",
        "\n",
        "    X_3 = X_1 * X_2  \n",
        "    vars.append(X_3)\n",
        "\n",
        "  \n",
        "\n",
        "\n",
        "\n",
        "  #---------------------------------\n",
        "\n",
        "  if prob == 4:\n",
        "    X_0 = np.array([1 for i in range(X.shape[0])])\n",
        "    \n",
        "    vars.append(X_0)\n",
        "    \n",
        "    X_1 = np.array([i**2 for i in X[:, 0]]) \n",
        "    vars.append(X_1)\n",
        "\n",
        "    X_2 = np.array([i for i in X[:, 1]]) \n",
        "    vars.append(X_2)\n",
        "\n",
        "    # X_3 = X_1 * X_2  \n",
        "    # vars.append(X_3)\n",
        "\n",
        "  return np.stack(vars).T\n",
        "def generateY(Y):\n",
        "  return Y.T"
      ],
      "metadata": {
        "id": "upVAIXytIvEa"
      },
      "execution_count": null,
      "outputs": []
    },
    {
      "cell_type": "code",
      "source": [
        "# calculate theta through the formula\n",
        "def cal_theta(X,Y, kind=0):\n",
        "  A = generateX(X, kind)\n",
        "  B = generateY(Y)\n",
        "  theta = np.linalg.inv(A.T @ A) @ (A.T @ B)\n",
        "  return theta"
      ],
      "metadata": {
        "id": "dMN8MYjqIu8x"
      },
      "execution_count": null,
      "outputs": []
    },
    {
      "cell_type": "code",
      "source": [
        "# calculate the rss \n",
        "def cal_r_rss(theta, X, Y, kind=0):\n",
        "\n",
        "  A = generateX(X, kind)\n",
        "  B = generateY(Y)\n",
        "\n",
        "\n",
        "\n",
        "  r = A @ theta - B\n",
        "  rss = np.sum(r * r)\n",
        "\n",
        "\n",
        "  return r, rss       "
      ],
      "metadata": {
        "id": "AbMVW8SUIu06"
      },
      "execution_count": null,
      "outputs": []
    },
    {
      "cell_type": "code",
      "source": [
        "X = training_set.copy()\n",
        "Y = training_labels.copy()"
      ],
      "metadata": {
        "id": "rDtaavYCK_SB"
      },
      "execution_count": null,
      "outputs": []
    },
    {
      "cell_type": "markdown",
      "source": [
        "b1 "
      ],
      "metadata": {
        "id": "7qApNy5EK2Rl"
      }
    },
    {
      "cell_type": "code",
      "source": [
        "kind = 0\n",
        "\n",
        "theta = cal_theta(X, Y, kind)\n",
        "r, r_norm = cal_r_rss(theta, X, Y, kind)\n",
        "\n",
        "print(theta.T)\n",
        "print(r_norm)"
      ],
      "metadata": {
        "colab": {
          "base_uri": "https://localhost:8080/"
        },
        "id": "-TYL1IrrJnKP",
        "outputId": "cd359734-5f68-4f0e-c203-1de2af9dc1a6"
      },
      "execution_count": null,
      "outputs": [
        {
          "output_type": "stream",
          "name": "stdout",
          "text": [
            "[-5.41214476  0.17830782]\n",
            "97.72301717340707\n"
          ]
        }
      ]
    },
    {
      "cell_type": "code",
      "source": [
        "kind = 1\n",
        "\n",
        "theta = cal_theta(X, Y, kind)\n",
        "r, r_norm = cal_r_rss(theta, X, Y, kind)\n",
        "\n",
        "print(theta.T)\n",
        "print(r_norm)"
      ],
      "metadata": {
        "colab": {
          "base_uri": "https://localhost:8080/"
        },
        "id": "uCvQkFPGK4cJ",
        "outputId": "f560e338-1bba-4163-bb9f-bf00b04cf084"
      },
      "execution_count": null,
      "outputs": [
        {
          "output_type": "stream",
          "name": "stdout",
          "text": [
            "[-6.05986673  0.27513418]\n",
            "121.79803049315558\n"
          ]
        }
      ]
    },
    {
      "cell_type": "code",
      "source": [
        "kind = 2\n",
        "\n",
        "theta = cal_theta(X, Y, kind)\n",
        "r, r_norm = cal_r_rss(theta, X, Y, kind)\n",
        "\n",
        "print(theta.T)\n",
        "print(r_norm)"
      ],
      "metadata": {
        "colab": {
          "base_uri": "https://localhost:8080/"
        },
        "id": "VN4KOXPiK89j",
        "outputId": "5fd0653b-36f9-479d-c592-fbbf1619a60e"
      },
      "execution_count": null,
      "outputs": [
        {
          "output_type": "stream",
          "name": "stdout",
          "text": [
            "[-8.01868279  0.13268373  0.13480849]\n",
            "85.8471198337366\n"
          ]
        }
      ]
    },
    {
      "cell_type": "markdown",
      "source": [
        "b2"
      ],
      "metadata": {
        "id": "p6HQIIUzLkdP"
      }
    },
    {
      "cell_type": "code",
      "source": [
        "kind = 3\n",
        "\n",
        "theta = cal_theta(X, Y, kind)\n",
        "r, r_norm = cal_r_rss(theta, X, Y, kind)\n",
        "\n",
        "print(theta.T)\n",
        "print(r_norm)"
      ],
      "metadata": {
        "colab": {
          "base_uri": "https://localhost:8080/"
        },
        "id": "AzhlFdB1LkKu",
        "outputId": "726f2221-94ad-4392-b976-b45c8c89c0d2"
      },
      "execution_count": null,
      "outputs": [
        {
          "output_type": "stream",
          "name": "stdout",
          "text": [
            "[-1.22651649e+01  2.10459990e-01  2.46563676e-01 -2.04494604e-03]\n",
            "85.81756053333928\n"
          ]
        }
      ]
    },
    {
      "cell_type": "markdown",
      "source": [
        "b3"
      ],
      "metadata": {
        "id": "4N99MlCXLqoM"
      }
    },
    {
      "cell_type": "code",
      "source": [
        "print(X)"
      ],
      "metadata": {
        "colab": {
          "base_uri": "https://localhost:8080/"
        },
        "id": "qtVnutYrO46-",
        "outputId": "bc1e814f-73be-43e6-b4de-3bd6cdadeaae"
      },
      "execution_count": null,
      "outputs": [
        {
          "output_type": "stream",
          "name": "stdout",
          "text": [
            "[[55.5 37.5]\n",
            " [57.  38.5]\n",
            " [56.  38.5]\n",
            " ...\n",
            " [52.  36. ]\n",
            " [57.5 40. ]\n",
            " [53.5 37.5]]\n"
          ]
        }
      ]
    },
    {
      "cell_type": "code",
      "source": [
        "kind = 4\n",
        "\n",
        "theta = cal_theta(X, Y, kind)\n",
        "r, r_norm = cal_r_rss(theta, X, Y, kind)\n",
        "\n",
        "print(theta.T)\n",
        "print(r_norm)"
      ],
      "metadata": {
        "colab": {
          "base_uri": "https://localhost:8080/"
        },
        "id": "7L34NcxGLp3a",
        "outputId": "97991ae6-2d3f-4cad-b600-50f22437039a"
      },
      "execution_count": null,
      "outputs": [
        {
          "output_type": "stream",
          "name": "stdout",
          "text": [
            "[-4.38815643e+00  1.20164110e-03  1.35469664e-01]\n",
            "85.81549408786184\n"
          ]
        }
      ]
    },
    {
      "cell_type": "code",
      "source": [
        "l = int(input('Input the length of baby: '))\n",
        "c = int(input('Input the circumference of baby : '))"
      ],
      "metadata": {
        "colab": {
          "base_uri": "https://localhost:8080/"
        },
        "id": "7aHA6xGXNTyl",
        "outputId": "4a4deef7-1f33-4b62-ea87-10e703c5a47e"
      },
      "execution_count": null,
      "outputs": [
        {
          "name": "stdout",
          "output_type": "stream",
          "text": [
            "Input the length of baby: 57\n",
            "Input the circumference of baby : 38\n"
          ]
        }
      ]
    },
    {
      "cell_type": "code",
      "source": [
        "X_inf = np.array([[l, c]])"
      ],
      "metadata": {
        "id": "6_DvcKAjNEyp"
      },
      "execution_count": null,
      "outputs": []
    },
    {
      "cell_type": "code",
      "source": [
        "A = generateX(X_inf, kind)"
      ],
      "metadata": {
        "id": "exFLwzq4PGxI"
      },
      "execution_count": null,
      "outputs": []
    },
    {
      "cell_type": "code",
      "source": [
        "pred = A @ theta "
      ],
      "metadata": {
        "id": "4nbk07XvNNkY"
      },
      "execution_count": null,
      "outputs": []
    },
    {
      "cell_type": "code",
      "source": [
        "print(f'My weight prediction for the baby is {pred[0]} kg')"
      ],
      "metadata": {
        "colab": {
          "base_uri": "https://localhost:8080/"
        },
        "id": "P_LUBeR4N1FE",
        "outputId": "18c1d776-a43b-46a9-e2f0-4c080c0e5a98"
      },
      "execution_count": null,
      "outputs": [
        {
          "output_type": "stream",
          "name": "stdout",
          "text": [
            "My weight prediction for the baby is 4.663822767296928 kg\n"
          ]
        }
      ]
    }
  ]
}