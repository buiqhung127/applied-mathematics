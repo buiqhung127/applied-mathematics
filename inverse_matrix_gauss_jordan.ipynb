{
  "nbformat": 4,
  "nbformat_minor": 0,
  "metadata": {
    "colab": {
      "provenance": [],
      "collapsed_sections": []
    },
    "kernelspec": {
      "name": "python3",
      "display_name": "Python 3"
    },
    "language_info": {
      "name": "python"
    }
  },
  "cells": [
    {
      "cell_type": "code",
      "source": [
        "# A = [[1, 2, 1], \n",
        "#  [3, 7, 3],\n",
        "#  [2, 3, 4]]\n",
        "\n",
        "\n",
        "A = [[1, -1, 2],\n",
        "     [1, 1, -2],\n",
        "     [1, 1, 4]]\n",
        "\n",
        "# A = [[1, 2, 3],\n",
        "#      [2, 5, 3], \n",
        "#      [1, 0, 8]]\n",
        "\n",
        "# A = [[-1, 3, -4],\n",
        "#      [2, 4, 1],\n",
        "#      [-4, 2, -9]]"
      ],
      "metadata": {
        "id": "pbvxDMOLJxCf"
      },
      "execution_count": null,
      "outputs": []
    },
    {
      "cell_type": "code",
      "source": [
        "def is_zero(num, epsilon=1e-8):\n",
        "  if abs(num) < epsilon:\n",
        "    return True \n",
        "  else:\n",
        "    return False\n"
      ],
      "metadata": {
        "id": "xqOZVbs-_3f-"
      },
      "execution_count": null,
      "outputs": []
    },
    {
      "cell_type": "code",
      "source": [
        "def display_matrix_fn(A):\n",
        "  for i in range(0, len(A)):\n",
        "    for j in range(0, len(A[0])):\n",
        "      print(A[i][j], end='\\t')\n",
        "    print('')"
      ],
      "metadata": {
        "id": "RprOodAS7vc8"
      },
      "execution_count": null,
      "outputs": []
    },
    {
      "cell_type": "code",
      "source": [
        "def swap_row_fn(A, i, j):\n",
        "  A_new = A.copy()\n",
        "  for k in range(len(A_new[0])):\n",
        "    A_new[i][k], A_new[j][k] = A_new[j][k], A_new[i][k]\n",
        "  return A_new \n",
        "# swap_row_fn(A, 0 , 1)"
      ],
      "metadata": {
        "id": "julGxPQ6GvWB"
      },
      "execution_count": null,
      "outputs": []
    },
    {
      "cell_type": "code",
      "source": [
        "def add_broadcasting_fn(A, B):\n",
        "  result = [] \n",
        "  for i in range(len(A)):\n",
        "    result.append(A[i] + B[i])\n",
        "  return result"
      ],
      "metadata": {
        "id": "shtPFotDe05U"
      },
      "execution_count": null,
      "outputs": []
    },
    {
      "cell_type": "code",
      "source": [
        "def mul_scalar_fn(vector, x):\n",
        "  new_vector = vector.copy()\n",
        "  for i in range(0, len(new_vector)):\n",
        "    new_vector[i] = vector[i] * x\n",
        "  return new_vector\n",
        "# mul_scalar_fn(A[0], 4)"
      ],
      "metadata": {
        "id": "Rk5FEWwTHGvI"
      },
      "execution_count": null,
      "outputs": []
    },
    {
      "cell_type": "code",
      "source": [
        "def eliminate_fn(A, i, j, k):\n",
        "  A_new = A.copy()\n",
        "  for index in range(0, len(A_new[0])):\n",
        "     A_new[j][index] = A_new[j][index] + A_new[i][index] * k\n",
        "  return A_new\n",
        "# print(eliminate_fn(A, 0 , 1, -5))"
      ],
      "metadata": {
        "id": "gm7hrNxKJJys"
      },
      "execution_count": null,
      "outputs": []
    },
    {
      "cell_type": "code",
      "source": [
        "M = len(A)\n",
        "N = len(A[0])"
      ],
      "metadata": {
        "id": "gqj44AlRNIQW"
      },
      "execution_count": null,
      "outputs": []
    },
    {
      "cell_type": "code",
      "source": [
        "def find_first_col_fn(A, limX, limY): # checked limit\n",
        "  for j in range(limX, N): \n",
        "    for i in range(limY, M):\n",
        "      # if A[i][j] != 0:\n",
        "      if not is_zero(A[i][j]): \n",
        "        return j, i \n",
        "  return None\n",
        "    "
      ],
      "metadata": {
        "id": "RXZIwKxuMvwF"
      },
      "execution_count": null,
      "outputs": []
    },
    {
      "cell_type": "code",
      "source": [
        "def is_inversible_fn(A): # checked limit\n",
        "  # print(A)\n",
        "  m = 0 \n",
        "  n = len(A[0]) // 2\n",
        "  for i in range(0, len(A)):\n",
        "    check = True\n",
        "    for j in range(0, len(A[0]) // 2):\n",
        "      if not is_zero(A[i][j]):  \n",
        "        check = False\n",
        "    if not check:\n",
        "      m += 1\n",
        "  # print(m, n)\n",
        "  if m == n: \n",
        "    return True\n",
        "  else: \n",
        "    return False"
      ],
      "metadata": {
        "id": "CbQKUCuj-io8"
      },
      "execution_count": null,
      "outputs": []
    },
    {
      "cell_type": "code",
      "source": [
        "def to_one_hot_fn(leng, index):\n",
        "  vector = [0] * leng\n",
        "  vector[index] = 1\n",
        "  return vector"
      ],
      "metadata": {
        "id": "arWQGUX9RVfK"
      },
      "execution_count": null,
      "outputs": []
    },
    {
      "cell_type": "code",
      "source": [
        "def Gauss_Jordan_elimination(A):\n",
        "  cur_col = 0 \n",
        "  cur_row = 0 \n",
        "  limX = 0 \n",
        "  limY = 0\n",
        "  con_row = -1   \n",
        "  newA = A.copy()\n",
        "  while True:\n",
        "    res = find_first_col_fn(newA, limX, limY)\n",
        "    if not res:\n",
        "      return newA \n",
        "    cur_col, cur_row = res  # toa do dau tien khac 0, chay theo hang roi moi toi cot\n",
        "    con_row += 1\n",
        "    if cur_row != con_row:\n",
        "      newA = swap_row_fn(newA, cur_row, con_row)\n",
        "    \n",
        "    newA[con_row] = mul_scalar_fn(newA[con_row], 1 / newA[con_row][cur_col]) # luc nay A[con_row][cur_col] da khac 0 \n",
        "\n",
        "    for i in range(0, M):\n",
        "      if newA[i][cur_col] != 0 and con_row != i:\n",
        "        newA = eliminate_fn(newA, con_row, i, - newA[i][cur_col] / newA[con_row][cur_col])\n",
        "    \n",
        "    limX = cur_col + 1\n",
        "    limY = con_row + 1\n",
        "    \n",
        "  return newA"
      ],
      "metadata": {
        "id": "WaSpLZHnMGDJ"
      },
      "execution_count": null,
      "outputs": []
    },
    {
      "cell_type": "code",
      "source": [
        "def add_unit_matrix_fn(A):\n",
        "  A_new = A.copy()\n",
        "  if (len(A) != len(A[0])):\n",
        "    return None\n",
        "  else:\n",
        "    for i in range(0, len(A)):\n",
        "      A_new[i] += to_one_hot_fn(len(A), i)\n",
        "    return A_new\n",
        "\n",
        "\n"
      ],
      "metadata": {
        "id": "ESb8TAlK7U2N"
      },
      "execution_count": null,
      "outputs": []
    },
    {
      "cell_type": "code",
      "source": [
        "def get_inverse_result_fn(A):\n",
        "  inv_A = []\n",
        "  for i in range(len(A)):\n",
        "    # print(A[i][len(A[0]) // 2 : len(A[0])])\n",
        "    inv_A.append(A[i][len(A[0]) // 2 : len(A[0])])\n",
        "    # for j in range(len(A[0])//2, len(A[0])):\n",
        "    #   print(A[i][j], end='\\t')\n",
        "    # print('')\n",
        "  # print(inv_A)\n",
        "  return inv_A\n"
      ],
      "metadata": {
        "id": "ANkkv-WSNzzj"
      },
      "execution_count": null,
      "outputs": []
    },
    {
      "cell_type": "code",
      "source": [
        "def inverse(A):\n",
        "  A = add_unit_matrix_fn(A)\n",
        "  aug_A = Gauss_Jordan_elimination(A)\n",
        "  print('Augmented matrix after Gauss Jordan elimination: ')\n",
        "  display_matrix_fn(aug_A)\n",
        "  if not is_inversible_fn(aug_A):\n",
        "    return None\n",
        "  else:\n",
        "    return get_inverse_result_fn(aug_A)\n",
        "\n",
        "\n",
        "inv_A = inverse(A)\n",
        "if inv_A is None:\n",
        "  print('This matrix is not Invertible')\n",
        "else:\n",
        "  print('Inverse Matrix')\n",
        "  display_matrix_fn(inv_A)"
      ],
      "metadata": {
        "colab": {
          "base_uri": "https://localhost:8080/"
        },
        "id": "TTPn05qiNp--",
        "outputId": "7bd28014-e0c2-4165-b2dd-a2722593724c"
      },
      "execution_count": null,
      "outputs": [
        {
          "output_type": "stream",
          "name": "stdout",
          "text": [
            "Augmented matrix after Gauss Jordan elimination: \n",
            "1.0\t0.0\t0.0\t0.5\t0.5\t0.0\t\n",
            "0.0\t1.0\t0.0\t-0.5\t0.16666666666666669\t0.3333333333333333\t\n",
            "0.0\t0.0\t1.0\t0.0\t-0.16666666666666666\t0.16666666666666666\t\n",
            "Inverse Matrix\n",
            "0.5\t0.5\t0.0\t\n",
            "-0.5\t0.16666666666666669\t0.3333333333333333\t\n",
            "0.0\t-0.16666666666666666\t0.16666666666666666\t\n"
          ]
        }
      ]
    }
  ]
}